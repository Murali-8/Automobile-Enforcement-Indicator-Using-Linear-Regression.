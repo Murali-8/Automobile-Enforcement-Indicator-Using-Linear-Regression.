{
 "cells": [
  {
   "cell_type": "code",
   "execution_count": 1,
   "id": "11969594",
   "metadata": {},
   "outputs": [],
   "source": [
    "import numpy as np\n",
    "import pandas as pd\n",
    "import matplotlib.pyplot as plt\n",
    "import seaborn as sns"
   ]
  },
  {
   "cell_type": "code",
   "execution_count": 2,
   "id": "c6eb3d14",
   "metadata": {},
   "outputs": [
    {
     "data": {
      "text/html": [
       "<div>\n",
       "<style scoped>\n",
       "    .dataframe tbody tr th:only-of-type {\n",
       "        vertical-align: middle;\n",
       "    }\n",
       "\n",
       "    .dataframe tbody tr th {\n",
       "        vertical-align: top;\n",
       "    }\n",
       "\n",
       "    .dataframe thead th {\n",
       "        text-align: right;\n",
       "    }\n",
       "</style>\n",
       "<table border=\"1\" class=\"dataframe\">\n",
       "  <thead>\n",
       "    <tr style=\"text-align: right;\">\n",
       "      <th></th>\n",
       "      <th>origin</th>\n",
       "      <th>cylinders</th>\n",
       "      <th>displacement</th>\n",
       "      <th>horsepower</th>\n",
       "      <th>weight</th>\n",
       "      <th>acceleration</th>\n",
       "      <th>year</th>\n",
       "      <th>name</th>\n",
       "      <th>Kilometer_per_liter</th>\n",
       "    </tr>\n",
       "  </thead>\n",
       "  <tbody>\n",
       "    <tr>\n",
       "      <th>0</th>\n",
       "      <td>1</td>\n",
       "      <td>8</td>\n",
       "      <td>307.0</td>\n",
       "      <td>130.0</td>\n",
       "      <td>3504</td>\n",
       "      <td>12.0</td>\n",
       "      <td>1970</td>\n",
       "      <td>chevrolet chevelle malibu</td>\n",
       "      <td>7.652587</td>\n",
       "    </tr>\n",
       "    <tr>\n",
       "      <th>1</th>\n",
       "      <td>1</td>\n",
       "      <td>8</td>\n",
       "      <td>350.0</td>\n",
       "      <td>165.0</td>\n",
       "      <td>3693</td>\n",
       "      <td>11.5</td>\n",
       "      <td>1970</td>\n",
       "      <td>buick skylark 320</td>\n",
       "      <td>6.377156</td>\n",
       "    </tr>\n",
       "    <tr>\n",
       "      <th>2</th>\n",
       "      <td>1</td>\n",
       "      <td>8</td>\n",
       "      <td>318.0</td>\n",
       "      <td>150.0</td>\n",
       "      <td>3436</td>\n",
       "      <td>11.0</td>\n",
       "      <td>1970</td>\n",
       "      <td>plymouth satellite</td>\n",
       "      <td>7.652587</td>\n",
       "    </tr>\n",
       "    <tr>\n",
       "      <th>3</th>\n",
       "      <td>1</td>\n",
       "      <td>8</td>\n",
       "      <td>304.0</td>\n",
       "      <td>150.0</td>\n",
       "      <td>3433</td>\n",
       "      <td>12.0</td>\n",
       "      <td>1970</td>\n",
       "      <td>amc rebel sst</td>\n",
       "      <td>6.802299</td>\n",
       "    </tr>\n",
       "    <tr>\n",
       "      <th>4</th>\n",
       "      <td>1</td>\n",
       "      <td>8</td>\n",
       "      <td>302.0</td>\n",
       "      <td>140.0</td>\n",
       "      <td>3449</td>\n",
       "      <td>10.5</td>\n",
       "      <td>1970</td>\n",
       "      <td>ford torino</td>\n",
       "      <td>7.227443</td>\n",
       "    </tr>\n",
       "    <tr>\n",
       "      <th>...</th>\n",
       "      <td>...</td>\n",
       "      <td>...</td>\n",
       "      <td>...</td>\n",
       "      <td>...</td>\n",
       "      <td>...</td>\n",
       "      <td>...</td>\n",
       "      <td>...</td>\n",
       "      <td>...</td>\n",
       "      <td>...</td>\n",
       "    </tr>\n",
       "    <tr>\n",
       "      <th>393</th>\n",
       "      <td>1</td>\n",
       "      <td>4</td>\n",
       "      <td>140.0</td>\n",
       "      <td>86.0</td>\n",
       "      <td>2790</td>\n",
       "      <td>15.6</td>\n",
       "      <td>1982</td>\n",
       "      <td>ford mustang gl</td>\n",
       "      <td>11.478880</td>\n",
       "    </tr>\n",
       "    <tr>\n",
       "      <th>394</th>\n",
       "      <td>2</td>\n",
       "      <td>4</td>\n",
       "      <td>97.0</td>\n",
       "      <td>52.0</td>\n",
       "      <td>2130</td>\n",
       "      <td>24.6</td>\n",
       "      <td>1982</td>\n",
       "      <td>vw pickup</td>\n",
       "      <td>18.706323</td>\n",
       "    </tr>\n",
       "    <tr>\n",
       "      <th>395</th>\n",
       "      <td>1</td>\n",
       "      <td>4</td>\n",
       "      <td>135.0</td>\n",
       "      <td>84.0</td>\n",
       "      <td>2295</td>\n",
       "      <td>11.6</td>\n",
       "      <td>1982</td>\n",
       "      <td>dodge rampage</td>\n",
       "      <td>13.604599</td>\n",
       "    </tr>\n",
       "    <tr>\n",
       "      <th>396</th>\n",
       "      <td>1</td>\n",
       "      <td>4</td>\n",
       "      <td>120.0</td>\n",
       "      <td>79.0</td>\n",
       "      <td>2625</td>\n",
       "      <td>18.6</td>\n",
       "      <td>1982</td>\n",
       "      <td>ford ranger</td>\n",
       "      <td>11.904024</td>\n",
       "    </tr>\n",
       "    <tr>\n",
       "      <th>397</th>\n",
       "      <td>1</td>\n",
       "      <td>4</td>\n",
       "      <td>119.0</td>\n",
       "      <td>82.0</td>\n",
       "      <td>2720</td>\n",
       "      <td>19.4</td>\n",
       "      <td>1982</td>\n",
       "      <td>chevy s-10</td>\n",
       "      <td>13.179455</td>\n",
       "    </tr>\n",
       "  </tbody>\n",
       "</table>\n",
       "<p>398 rows × 9 columns</p>\n",
       "</div>"
      ],
      "text/plain": [
       "     origin  cylinders  displacement  horsepower  weight  acceleration  year  \\\n",
       "0         1          8         307.0       130.0    3504          12.0  1970   \n",
       "1         1          8         350.0       165.0    3693          11.5  1970   \n",
       "2         1          8         318.0       150.0    3436          11.0  1970   \n",
       "3         1          8         304.0       150.0    3433          12.0  1970   \n",
       "4         1          8         302.0       140.0    3449          10.5  1970   \n",
       "..      ...        ...           ...         ...     ...           ...   ...   \n",
       "393       1          4         140.0        86.0    2790          15.6  1982   \n",
       "394       2          4          97.0        52.0    2130          24.6  1982   \n",
       "395       1          4         135.0        84.0    2295          11.6  1982   \n",
       "396       1          4         120.0        79.0    2625          18.6  1982   \n",
       "397       1          4         119.0        82.0    2720          19.4  1982   \n",
       "\n",
       "                          name  Kilometer_per_liter  \n",
       "0    chevrolet chevelle malibu             7.652587  \n",
       "1            buick skylark 320             6.377156  \n",
       "2           plymouth satellite             7.652587  \n",
       "3                amc rebel sst             6.802299  \n",
       "4                  ford torino             7.227443  \n",
       "..                         ...                  ...  \n",
       "393            ford mustang gl            11.478880  \n",
       "394                  vw pickup            18.706323  \n",
       "395              dodge rampage            13.604599  \n",
       "396                ford ranger            11.904024  \n",
       "397                 chevy s-10            13.179455  \n",
       "\n",
       "[398 rows x 9 columns]"
      ]
     },
     "execution_count": 2,
     "metadata": {},
     "output_type": "execute_result"
    }
   ],
   "source": [
    "df=pd.read_csv(\"data.csv\")\n",
    "df"
   ]
  },
  {
   "cell_type": "code",
   "execution_count": 3,
   "id": "547051fa",
   "metadata": {},
   "outputs": [
    {
     "name": "stdout",
     "output_type": "stream",
     "text": [
      "<class 'pandas.core.frame.DataFrame'>\n",
      "RangeIndex: 398 entries, 0 to 397\n",
      "Data columns (total 9 columns):\n",
      " #   Column               Non-Null Count  Dtype  \n",
      "---  ------               --------------  -----  \n",
      " 0   origin               398 non-null    int64  \n",
      " 1   cylinders            398 non-null    int64  \n",
      " 2   displacement         398 non-null    float64\n",
      " 3   horsepower           392 non-null    float64\n",
      " 4   weight               398 non-null    int64  \n",
      " 5   acceleration         398 non-null    float64\n",
      " 6   year                 398 non-null    int64  \n",
      " 7   name                 398 non-null    object \n",
      " 8   Kilometer_per_liter  398 non-null    float64\n",
      "dtypes: float64(4), int64(4), object(1)\n",
      "memory usage: 28.1+ KB\n"
     ]
    }
   ],
   "source": [
    "df.info()"
   ]
  },
  {
   "cell_type": "code",
   "execution_count": 4,
   "id": "48560ac7",
   "metadata": {},
   "outputs": [
    {
     "data": {
      "text/plain": [
       "origin                 0\n",
       "cylinders              0\n",
       "displacement           0\n",
       "horsepower             6\n",
       "weight                 0\n",
       "acceleration           0\n",
       "year                   0\n",
       "name                   0\n",
       "Kilometer_per_liter    0\n",
       "dtype: int64"
      ]
     },
     "execution_count": 4,
     "metadata": {},
     "output_type": "execute_result"
    }
   ],
   "source": [
    "df.isna().sum()  #to check whetehr there are null in horsepower"
   ]
  },
  {
   "cell_type": "markdown",
   "id": "33c6df4f",
   "metadata": {},
   "source": [
    "### we know that pandas is infering name is object and it is categorical but we know orgin and cylinder are both categorical so we need to convert orgin to category"
   ]
  },
  {
   "cell_type": "code",
   "execution_count": 6,
   "id": "92d7390f",
   "metadata": {},
   "outputs": [
    {
     "name": "stdout",
     "output_type": "stream",
     "text": [
      "<class 'pandas.core.frame.DataFrame'>\n",
      "RangeIndex: 398 entries, 0 to 397\n",
      "Data columns (total 9 columns):\n",
      " #   Column               Non-Null Count  Dtype   \n",
      "---  ------               --------------  -----   \n",
      " 0   origin               398 non-null    category\n",
      " 1   cylinders            398 non-null    int64   \n",
      " 2   displacement         398 non-null    float64 \n",
      " 3   horsepower           392 non-null    float64 \n",
      " 4   weight               398 non-null    int64   \n",
      " 5   acceleration         398 non-null    float64 \n",
      " 6   year                 398 non-null    int64   \n",
      " 7   name                 398 non-null    object  \n",
      " 8   Kilometer_per_liter  398 non-null    float64 \n",
      "dtypes: category(1), float64(4), int64(3), object(1)\n",
      "memory usage: 25.5+ KB\n"
     ]
    }
   ],
   "source": [
    "df.origin = df.origin.astype(\"category\")\n",
    "df.info()"
   ]
  },
  {
   "cell_type": "code",
   "execution_count": 7,
   "id": "76031a96",
   "metadata": {},
   "outputs": [
    {
     "name": "stdout",
     "output_type": "stream",
     "text": [
      "<class 'pandas.core.frame.DataFrame'>\n",
      "RangeIndex: 398 entries, 0 to 397\n",
      "Data columns (total 9 columns):\n",
      " #   Column               Non-Null Count  Dtype   \n",
      "---  ------               --------------  -----   \n",
      " 0   origin               398 non-null    category\n",
      " 1   cylinders            398 non-null    category\n",
      " 2   displacement         398 non-null    float64 \n",
      " 3   horsepower           392 non-null    float64 \n",
      " 4   weight               398 non-null    int64   \n",
      " 5   acceleration         398 non-null    float64 \n",
      " 6   year                 398 non-null    int64   \n",
      " 7   name                 398 non-null    object  \n",
      " 8   Kilometer_per_liter  398 non-null    float64 \n",
      "dtypes: category(2), float64(4), int64(2), object(1)\n",
      "memory usage: 23.0+ KB\n"
     ]
    }
   ],
   "source": [
    "df.cylinders = df.cylinders.astype(\"category\")\n",
    "df.info()"
   ]
  },
  {
   "cell_type": "markdown",
   "id": "2b8d6c74",
   "metadata": {},
   "source": [
    "### to drop name and year colunns( coz name is unique in each instant and year does not affect the kmpl)\n"
   ]
  },
  {
   "cell_type": "code",
   "execution_count": 10,
   "id": "aaf28f0a",
   "metadata": {},
   "outputs": [
    {
     "data": {
      "text/html": [
       "<div>\n",
       "<style scoped>\n",
       "    .dataframe tbody tr th:only-of-type {\n",
       "        vertical-align: middle;\n",
       "    }\n",
       "\n",
       "    .dataframe tbody tr th {\n",
       "        vertical-align: top;\n",
       "    }\n",
       "\n",
       "    .dataframe thead th {\n",
       "        text-align: right;\n",
       "    }\n",
       "</style>\n",
       "<table border=\"1\" class=\"dataframe\">\n",
       "  <thead>\n",
       "    <tr style=\"text-align: right;\">\n",
       "      <th></th>\n",
       "      <th>origin</th>\n",
       "      <th>cylinders</th>\n",
       "      <th>displacement</th>\n",
       "      <th>horsepower</th>\n",
       "      <th>weight</th>\n",
       "      <th>acceleration</th>\n",
       "      <th>Kilometer_per_liter</th>\n",
       "    </tr>\n",
       "  </thead>\n",
       "  <tbody>\n",
       "    <tr>\n",
       "      <th>0</th>\n",
       "      <td>1</td>\n",
       "      <td>8</td>\n",
       "      <td>307.0</td>\n",
       "      <td>130.0</td>\n",
       "      <td>3504</td>\n",
       "      <td>12.0</td>\n",
       "      <td>7.652587</td>\n",
       "    </tr>\n",
       "    <tr>\n",
       "      <th>1</th>\n",
       "      <td>1</td>\n",
       "      <td>8</td>\n",
       "      <td>350.0</td>\n",
       "      <td>165.0</td>\n",
       "      <td>3693</td>\n",
       "      <td>11.5</td>\n",
       "      <td>6.377156</td>\n",
       "    </tr>\n",
       "    <tr>\n",
       "      <th>2</th>\n",
       "      <td>1</td>\n",
       "      <td>8</td>\n",
       "      <td>318.0</td>\n",
       "      <td>150.0</td>\n",
       "      <td>3436</td>\n",
       "      <td>11.0</td>\n",
       "      <td>7.652587</td>\n",
       "    </tr>\n",
       "    <tr>\n",
       "      <th>3</th>\n",
       "      <td>1</td>\n",
       "      <td>8</td>\n",
       "      <td>304.0</td>\n",
       "      <td>150.0</td>\n",
       "      <td>3433</td>\n",
       "      <td>12.0</td>\n",
       "      <td>6.802299</td>\n",
       "    </tr>\n",
       "    <tr>\n",
       "      <th>4</th>\n",
       "      <td>1</td>\n",
       "      <td>8</td>\n",
       "      <td>302.0</td>\n",
       "      <td>140.0</td>\n",
       "      <td>3449</td>\n",
       "      <td>10.5</td>\n",
       "      <td>7.227443</td>\n",
       "    </tr>\n",
       "    <tr>\n",
       "      <th>...</th>\n",
       "      <td>...</td>\n",
       "      <td>...</td>\n",
       "      <td>...</td>\n",
       "      <td>...</td>\n",
       "      <td>...</td>\n",
       "      <td>...</td>\n",
       "      <td>...</td>\n",
       "    </tr>\n",
       "    <tr>\n",
       "      <th>393</th>\n",
       "      <td>1</td>\n",
       "      <td>4</td>\n",
       "      <td>140.0</td>\n",
       "      <td>86.0</td>\n",
       "      <td>2790</td>\n",
       "      <td>15.6</td>\n",
       "      <td>11.478880</td>\n",
       "    </tr>\n",
       "    <tr>\n",
       "      <th>394</th>\n",
       "      <td>2</td>\n",
       "      <td>4</td>\n",
       "      <td>97.0</td>\n",
       "      <td>52.0</td>\n",
       "      <td>2130</td>\n",
       "      <td>24.6</td>\n",
       "      <td>18.706323</td>\n",
       "    </tr>\n",
       "    <tr>\n",
       "      <th>395</th>\n",
       "      <td>1</td>\n",
       "      <td>4</td>\n",
       "      <td>135.0</td>\n",
       "      <td>84.0</td>\n",
       "      <td>2295</td>\n",
       "      <td>11.6</td>\n",
       "      <td>13.604599</td>\n",
       "    </tr>\n",
       "    <tr>\n",
       "      <th>396</th>\n",
       "      <td>1</td>\n",
       "      <td>4</td>\n",
       "      <td>120.0</td>\n",
       "      <td>79.0</td>\n",
       "      <td>2625</td>\n",
       "      <td>18.6</td>\n",
       "      <td>11.904024</td>\n",
       "    </tr>\n",
       "    <tr>\n",
       "      <th>397</th>\n",
       "      <td>1</td>\n",
       "      <td>4</td>\n",
       "      <td>119.0</td>\n",
       "      <td>82.0</td>\n",
       "      <td>2720</td>\n",
       "      <td>19.4</td>\n",
       "      <td>13.179455</td>\n",
       "    </tr>\n",
       "  </tbody>\n",
       "</table>\n",
       "<p>398 rows × 7 columns</p>\n",
       "</div>"
      ],
      "text/plain": [
       "    origin cylinders  displacement  horsepower  weight  acceleration  \\\n",
       "0        1         8         307.0       130.0    3504          12.0   \n",
       "1        1         8         350.0       165.0    3693          11.5   \n",
       "2        1         8         318.0       150.0    3436          11.0   \n",
       "3        1         8         304.0       150.0    3433          12.0   \n",
       "4        1         8         302.0       140.0    3449          10.5   \n",
       "..     ...       ...           ...         ...     ...           ...   \n",
       "393      1         4         140.0        86.0    2790          15.6   \n",
       "394      2         4          97.0        52.0    2130          24.6   \n",
       "395      1         4         135.0        84.0    2295          11.6   \n",
       "396      1         4         120.0        79.0    2625          18.6   \n",
       "397      1         4         119.0        82.0    2720          19.4   \n",
       "\n",
       "     Kilometer_per_liter  \n",
       "0               7.652587  \n",
       "1               6.377156  \n",
       "2               7.652587  \n",
       "3               6.802299  \n",
       "4               7.227443  \n",
       "..                   ...  \n",
       "393            11.478880  \n",
       "394            18.706323  \n",
       "395            13.604599  \n",
       "396            11.904024  \n",
       "397            13.179455  \n",
       "\n",
       "[398 rows x 7 columns]"
      ]
     },
     "execution_count": 10,
     "metadata": {},
     "output_type": "execute_result"
    }
   ],
   "source": [
    "df1=df.drop(columns=['year','name'],axis=1)\n",
    "df1"
   ]
  },
  {
   "cell_type": "markdown",
   "id": "4f6ef8d1",
   "metadata": {},
   "source": [
    "#### to remove the 6 NAN values in horse power(coz 6 values doesnt affect the whole distribution and it was gn as ? in data and we repleced it with NAN)"
   ]
  },
  {
   "cell_type": "code",
   "execution_count": 11,
   "id": "23b63aaf",
   "metadata": {},
   "outputs": [
    {
     "data": {
      "text/plain": [
       "Int64Index([32, 126, 330, 336, 354, 374], dtype='int64')"
      ]
     },
     "execution_count": 11,
     "metadata": {},
     "output_type": "execute_result"
    }
   ],
   "source": [
    "drop_NAN=df1[df1['horsepower'].isna()].index   #for dropping the NAn values\n",
    "drop_NAN"
   ]
  },
  {
   "cell_type": "code",
   "execution_count": 14,
   "id": "c2416dea",
   "metadata": {},
   "outputs": [
    {
     "data": {
      "text/html": [
       "<div>\n",
       "<style scoped>\n",
       "    .dataframe tbody tr th:only-of-type {\n",
       "        vertical-align: middle;\n",
       "    }\n",
       "\n",
       "    .dataframe tbody tr th {\n",
       "        vertical-align: top;\n",
       "    }\n",
       "\n",
       "    .dataframe thead th {\n",
       "        text-align: right;\n",
       "    }\n",
       "</style>\n",
       "<table border=\"1\" class=\"dataframe\">\n",
       "  <thead>\n",
       "    <tr style=\"text-align: right;\">\n",
       "      <th></th>\n",
       "      <th>origin</th>\n",
       "      <th>cylinders</th>\n",
       "      <th>displacement</th>\n",
       "      <th>horsepower</th>\n",
       "      <th>weight</th>\n",
       "      <th>acceleration</th>\n",
       "      <th>Kilometer_per_liter</th>\n",
       "    </tr>\n",
       "  </thead>\n",
       "  <tbody>\n",
       "    <tr>\n",
       "      <th>0</th>\n",
       "      <td>1</td>\n",
       "      <td>8</td>\n",
       "      <td>307.0</td>\n",
       "      <td>130.0</td>\n",
       "      <td>3504</td>\n",
       "      <td>12.0</td>\n",
       "      <td>7.652587</td>\n",
       "    </tr>\n",
       "    <tr>\n",
       "      <th>1</th>\n",
       "      <td>1</td>\n",
       "      <td>8</td>\n",
       "      <td>350.0</td>\n",
       "      <td>165.0</td>\n",
       "      <td>3693</td>\n",
       "      <td>11.5</td>\n",
       "      <td>6.377156</td>\n",
       "    </tr>\n",
       "    <tr>\n",
       "      <th>2</th>\n",
       "      <td>1</td>\n",
       "      <td>8</td>\n",
       "      <td>318.0</td>\n",
       "      <td>150.0</td>\n",
       "      <td>3436</td>\n",
       "      <td>11.0</td>\n",
       "      <td>7.652587</td>\n",
       "    </tr>\n",
       "    <tr>\n",
       "      <th>3</th>\n",
       "      <td>1</td>\n",
       "      <td>8</td>\n",
       "      <td>304.0</td>\n",
       "      <td>150.0</td>\n",
       "      <td>3433</td>\n",
       "      <td>12.0</td>\n",
       "      <td>6.802299</td>\n",
       "    </tr>\n",
       "    <tr>\n",
       "      <th>4</th>\n",
       "      <td>1</td>\n",
       "      <td>8</td>\n",
       "      <td>302.0</td>\n",
       "      <td>140.0</td>\n",
       "      <td>3449</td>\n",
       "      <td>10.5</td>\n",
       "      <td>7.227443</td>\n",
       "    </tr>\n",
       "    <tr>\n",
       "      <th>...</th>\n",
       "      <td>...</td>\n",
       "      <td>...</td>\n",
       "      <td>...</td>\n",
       "      <td>...</td>\n",
       "      <td>...</td>\n",
       "      <td>...</td>\n",
       "      <td>...</td>\n",
       "    </tr>\n",
       "    <tr>\n",
       "      <th>393</th>\n",
       "      <td>1</td>\n",
       "      <td>4</td>\n",
       "      <td>140.0</td>\n",
       "      <td>86.0</td>\n",
       "      <td>2790</td>\n",
       "      <td>15.6</td>\n",
       "      <td>11.478880</td>\n",
       "    </tr>\n",
       "    <tr>\n",
       "      <th>394</th>\n",
       "      <td>2</td>\n",
       "      <td>4</td>\n",
       "      <td>97.0</td>\n",
       "      <td>52.0</td>\n",
       "      <td>2130</td>\n",
       "      <td>24.6</td>\n",
       "      <td>18.706323</td>\n",
       "    </tr>\n",
       "    <tr>\n",
       "      <th>395</th>\n",
       "      <td>1</td>\n",
       "      <td>4</td>\n",
       "      <td>135.0</td>\n",
       "      <td>84.0</td>\n",
       "      <td>2295</td>\n",
       "      <td>11.6</td>\n",
       "      <td>13.604599</td>\n",
       "    </tr>\n",
       "    <tr>\n",
       "      <th>396</th>\n",
       "      <td>1</td>\n",
       "      <td>4</td>\n",
       "      <td>120.0</td>\n",
       "      <td>79.0</td>\n",
       "      <td>2625</td>\n",
       "      <td>18.6</td>\n",
       "      <td>11.904024</td>\n",
       "    </tr>\n",
       "    <tr>\n",
       "      <th>397</th>\n",
       "      <td>1</td>\n",
       "      <td>4</td>\n",
       "      <td>119.0</td>\n",
       "      <td>82.0</td>\n",
       "      <td>2720</td>\n",
       "      <td>19.4</td>\n",
       "      <td>13.179455</td>\n",
       "    </tr>\n",
       "  </tbody>\n",
       "</table>\n",
       "<p>392 rows × 7 columns</p>\n",
       "</div>"
      ],
      "text/plain": [
       "    origin cylinders  displacement  horsepower  weight  acceleration  \\\n",
       "0        1         8         307.0       130.0    3504          12.0   \n",
       "1        1         8         350.0       165.0    3693          11.5   \n",
       "2        1         8         318.0       150.0    3436          11.0   \n",
       "3        1         8         304.0       150.0    3433          12.0   \n",
       "4        1         8         302.0       140.0    3449          10.5   \n",
       "..     ...       ...           ...         ...     ...           ...   \n",
       "393      1         4         140.0        86.0    2790          15.6   \n",
       "394      2         4          97.0        52.0    2130          24.6   \n",
       "395      1         4         135.0        84.0    2295          11.6   \n",
       "396      1         4         120.0        79.0    2625          18.6   \n",
       "397      1         4         119.0        82.0    2720          19.4   \n",
       "\n",
       "     Kilometer_per_liter  \n",
       "0               7.652587  \n",
       "1               6.377156  \n",
       "2               7.652587  \n",
       "3               6.802299  \n",
       "4               7.227443  \n",
       "..                   ...  \n",
       "393            11.478880  \n",
       "394            18.706323  \n",
       "395            13.604599  \n",
       "396            11.904024  \n",
       "397            13.179455  \n",
       "\n",
       "[392 rows x 7 columns]"
      ]
     },
     "execution_count": 14,
     "metadata": {},
     "output_type": "execute_result"
    }
   ],
   "source": [
    "drop=df1.drop(index=drop_NAN,axis=0)\n",
    "drop"
   ]
  },
  {
   "cell_type": "markdown",
   "id": "2a94e337",
   "metadata": {},
   "source": [
    "#### drop is our final cleaned data with no missing values and no columns(name and year)\n",
    "#df = df.drop(index=df[df['horsepower']=='?'].index,axis=0) alternate way"
   ]
  },
  {
   "cell_type": "code",
   "execution_count": 15,
   "id": "3ccacc40",
   "metadata": {},
   "outputs": [
    {
     "data": {
      "text/plain": [
       "origin                 0\n",
       "cylinders              0\n",
       "displacement           0\n",
       "horsepower             0\n",
       "weight                 0\n",
       "acceleration           0\n",
       "Kilometer_per_liter    0\n",
       "dtype: int64"
      ]
     },
     "execution_count": 15,
     "metadata": {},
     "output_type": "execute_result"
    }
   ],
   "source": [
    "drop.isna().sum()   #drop is our final cleaned data with no missing values and no columns(name and year)"
   ]
  },
  {
   "cell_type": "markdown",
   "id": "3e394689",
   "metadata": {},
   "source": [
    "### Assigning dependent(y) and independent variable(2 cat and 4 numerical)=(x)"
   ]
  },
  {
   "cell_type": "code",
   "execution_count": 20,
   "id": "0435e7c1",
   "metadata": {},
   "outputs": [
    {
     "data": {
      "text/html": [
       "<div>\n",
       "<style scoped>\n",
       "    .dataframe tbody tr th:only-of-type {\n",
       "        vertical-align: middle;\n",
       "    }\n",
       "\n",
       "    .dataframe tbody tr th {\n",
       "        vertical-align: top;\n",
       "    }\n",
       "\n",
       "    .dataframe thead th {\n",
       "        text-align: right;\n",
       "    }\n",
       "</style>\n",
       "<table border=\"1\" class=\"dataframe\">\n",
       "  <thead>\n",
       "    <tr style=\"text-align: right;\">\n",
       "      <th></th>\n",
       "      <th>origin</th>\n",
       "      <th>cylinders</th>\n",
       "      <th>displacement</th>\n",
       "      <th>horsepower</th>\n",
       "      <th>weight</th>\n",
       "      <th>acceleration</th>\n",
       "    </tr>\n",
       "  </thead>\n",
       "  <tbody>\n",
       "    <tr>\n",
       "      <th>0</th>\n",
       "      <td>1</td>\n",
       "      <td>8</td>\n",
       "      <td>307.0</td>\n",
       "      <td>130.0</td>\n",
       "      <td>3504</td>\n",
       "      <td>12.0</td>\n",
       "    </tr>\n",
       "    <tr>\n",
       "      <th>1</th>\n",
       "      <td>1</td>\n",
       "      <td>8</td>\n",
       "      <td>350.0</td>\n",
       "      <td>165.0</td>\n",
       "      <td>3693</td>\n",
       "      <td>11.5</td>\n",
       "    </tr>\n",
       "    <tr>\n",
       "      <th>2</th>\n",
       "      <td>1</td>\n",
       "      <td>8</td>\n",
       "      <td>318.0</td>\n",
       "      <td>150.0</td>\n",
       "      <td>3436</td>\n",
       "      <td>11.0</td>\n",
       "    </tr>\n",
       "    <tr>\n",
       "      <th>3</th>\n",
       "      <td>1</td>\n",
       "      <td>8</td>\n",
       "      <td>304.0</td>\n",
       "      <td>150.0</td>\n",
       "      <td>3433</td>\n",
       "      <td>12.0</td>\n",
       "    </tr>\n",
       "    <tr>\n",
       "      <th>4</th>\n",
       "      <td>1</td>\n",
       "      <td>8</td>\n",
       "      <td>302.0</td>\n",
       "      <td>140.0</td>\n",
       "      <td>3449</td>\n",
       "      <td>10.5</td>\n",
       "    </tr>\n",
       "    <tr>\n",
       "      <th>...</th>\n",
       "      <td>...</td>\n",
       "      <td>...</td>\n",
       "      <td>...</td>\n",
       "      <td>...</td>\n",
       "      <td>...</td>\n",
       "      <td>...</td>\n",
       "    </tr>\n",
       "    <tr>\n",
       "      <th>393</th>\n",
       "      <td>1</td>\n",
       "      <td>4</td>\n",
       "      <td>140.0</td>\n",
       "      <td>86.0</td>\n",
       "      <td>2790</td>\n",
       "      <td>15.6</td>\n",
       "    </tr>\n",
       "    <tr>\n",
       "      <th>394</th>\n",
       "      <td>2</td>\n",
       "      <td>4</td>\n",
       "      <td>97.0</td>\n",
       "      <td>52.0</td>\n",
       "      <td>2130</td>\n",
       "      <td>24.6</td>\n",
       "    </tr>\n",
       "    <tr>\n",
       "      <th>395</th>\n",
       "      <td>1</td>\n",
       "      <td>4</td>\n",
       "      <td>135.0</td>\n",
       "      <td>84.0</td>\n",
       "      <td>2295</td>\n",
       "      <td>11.6</td>\n",
       "    </tr>\n",
       "    <tr>\n",
       "      <th>396</th>\n",
       "      <td>1</td>\n",
       "      <td>4</td>\n",
       "      <td>120.0</td>\n",
       "      <td>79.0</td>\n",
       "      <td>2625</td>\n",
       "      <td>18.6</td>\n",
       "    </tr>\n",
       "    <tr>\n",
       "      <th>397</th>\n",
       "      <td>1</td>\n",
       "      <td>4</td>\n",
       "      <td>119.0</td>\n",
       "      <td>82.0</td>\n",
       "      <td>2720</td>\n",
       "      <td>19.4</td>\n",
       "    </tr>\n",
       "  </tbody>\n",
       "</table>\n",
       "<p>392 rows × 6 columns</p>\n",
       "</div>"
      ],
      "text/plain": [
       "    origin cylinders  displacement  horsepower  weight  acceleration\n",
       "0        1         8         307.0       130.0    3504          12.0\n",
       "1        1         8         350.0       165.0    3693          11.5\n",
       "2        1         8         318.0       150.0    3436          11.0\n",
       "3        1         8         304.0       150.0    3433          12.0\n",
       "4        1         8         302.0       140.0    3449          10.5\n",
       "..     ...       ...           ...         ...     ...           ...\n",
       "393      1         4         140.0        86.0    2790          15.6\n",
       "394      2         4          97.0        52.0    2130          24.6\n",
       "395      1         4         135.0        84.0    2295          11.6\n",
       "396      1         4         120.0        79.0    2625          18.6\n",
       "397      1         4         119.0        82.0    2720          19.4\n",
       "\n",
       "[392 rows x 6 columns]"
      ]
     },
     "execution_count": 20,
     "metadata": {},
     "output_type": "execute_result"
    }
   ],
   "source": [
    "#IDV=independent variables\n",
    "IDV=drop.iloc[:,0:6]\n",
    "IDV"
   ]
  },
  {
   "cell_type": "code",
   "execution_count": 21,
   "id": "99e4e265",
   "metadata": {},
   "outputs": [
    {
     "data": {
      "text/plain": [
       "0       7.652587\n",
       "1       6.377156\n",
       "2       7.652587\n",
       "3       6.802299\n",
       "4       7.227443\n",
       "         ...    \n",
       "393    11.478880\n",
       "394    18.706323\n",
       "395    13.604599\n",
       "396    11.904024\n",
       "397    13.179455\n",
       "Name: Kilometer_per_liter, Length: 392, dtype: float64"
      ]
     },
     "execution_count": 21,
     "metadata": {},
     "output_type": "execute_result"
    }
   ],
   "source": [
    "#DV= dependent\n",
    "DV=drop.iloc[:,-1]\n",
    "DV"
   ]
  },
  {
   "cell_type": "markdown",
   "id": "c368b11f",
   "metadata": {},
   "source": [
    "### Applying Ttest to check linearity. we have 6 IDV and 1 DV we have to check each IDV with DV"
   ]
  },
  {
   "cell_type": "code",
   "execution_count": 24,
   "id": "8d459b6b",
   "metadata": {},
   "outputs": [],
   "source": [
    "#apply T-test-- pearsonr is used to cal t test\n",
    "from scipy.stats import pearsonr"
   ]
  },
  {
   "cell_type": "code",
   "execution_count": 26,
   "id": "61b17f8f",
   "metadata": {},
   "outputs": [
    {
     "data": {
      "text/plain": [
       "(0.5652087566805262, 1.8110802019906616e-34)"
      ]
     },
     "execution_count": 26,
     "metadata": {},
     "output_type": "execute_result"
    }
   ],
   "source": [
    "pearsonr(drop.origin,drop.Kilometer_per_liter)"
   ]
  },
  {
   "cell_type": "code",
   "execution_count": 27,
   "id": "85b73576",
   "metadata": {},
   "outputs": [
    {
     "name": "stdout",
     "output_type": "stream",
     "text": [
      "Significant 1.8110802019906616e-34\n"
     ]
    }
   ],
   "source": [
    "r,p=pearsonr(drop.origin,drop.Kilometer_per_liter)\n",
    "if p>0.05:\n",
    "    print(\"Not significant\",p)\n",
    "else:\n",
    "    print(\"Significant\",p)\n",
    "    "
   ]
  },
  {
   "cell_type": "code",
   "execution_count": 28,
   "id": "f1788ae3",
   "metadata": {},
   "outputs": [
    {
     "name": "stdout",
     "output_type": "stream",
     "text": [
      "Significant 1.3113836126440812e-80\n"
     ]
    }
   ],
   "source": [
    "r,p=pearsonr(drop.cylinders,drop.Kilometer_per_liter)\n",
    "if p>0.05:\n",
    "    print(\"Not significant\",p)\n",
    "else:\n",
    "    print(\"Significant\",p)\n",
    "    "
   ]
  },
  {
   "cell_type": "code",
   "execution_count": 29,
   "id": "d99e8f38",
   "metadata": {},
   "outputs": [
    {
     "name": "stdout",
     "output_type": "stream",
     "text": [
      "Significant 1.6606417936100068e-90\n"
     ]
    }
   ],
   "source": [
    "r,p=pearsonr(drop.displacement,drop.Kilometer_per_liter)\n",
    "if p>0.05:\n",
    "    print(\"Not significant\",p)\n",
    "else:\n",
    "    print(\"Significant\",p)\n",
    "    "
   ]
  },
  {
   "cell_type": "code",
   "execution_count": 30,
   "id": "b2f14137",
   "metadata": {},
   "outputs": [
    {
     "name": "stdout",
     "output_type": "stream",
     "text": [
      "Significant 7.031988957280459e-81\n"
     ]
    }
   ],
   "source": [
    "r,p=pearsonr(drop.horsepower,drop.Kilometer_per_liter)\n",
    "if p>0.05:\n",
    "    print(\"Not significant\",p)\n",
    "else:\n",
    "    print(\"Significant\",p)\n",
    "    "
   ]
  },
  {
   "cell_type": "code",
   "execution_count": 31,
   "id": "88a33494",
   "metadata": {},
   "outputs": [
    {
     "name": "stdout",
     "output_type": "stream",
     "text": [
      "Significant 6.015295897114415e-102\n"
     ]
    }
   ],
   "source": [
    "r,p=pearsonr(drop.weight,drop.Kilometer_per_liter)\n",
    "if p>0.05:\n",
    "    print(\"Not significant\",p)\n",
    "else:\n",
    "    print(\"Significant\",p)\n",
    "    "
   ]
  },
  {
   "cell_type": "code",
   "execution_count": 32,
   "id": "62c3d691",
   "metadata": {},
   "outputs": [
    {
     "name": "stdout",
     "output_type": "stream",
     "text": [
      "Significant 1.778576132110161e-18\n"
     ]
    }
   ],
   "source": [
    "r,p=pearsonr(drop.acceleration,drop.Kilometer_per_liter)\n",
    "if p>0.05:\n",
    "    print(\"Not significant\",p)\n",
    "else:\n",
    "    print(\"Significant\",p)\n",
    "    "
   ]
  },
  {
   "cell_type": "markdown",
   "id": "d4591ced",
   "metadata": {},
   "source": [
    "## to check Multicollinearity, we find correlation and for that we will use only Numerical IDV's"
   ]
  },
  {
   "cell_type": "code",
   "execution_count": 23,
   "id": "601ccca0",
   "metadata": {},
   "outputs": [
    {
     "data": {
      "text/html": [
       "<div>\n",
       "<style scoped>\n",
       "    .dataframe tbody tr th:only-of-type {\n",
       "        vertical-align: middle;\n",
       "    }\n",
       "\n",
       "    .dataframe tbody tr th {\n",
       "        vertical-align: top;\n",
       "    }\n",
       "\n",
       "    .dataframe thead th {\n",
       "        text-align: right;\n",
       "    }\n",
       "</style>\n",
       "<table border=\"1\" class=\"dataframe\">\n",
       "  <thead>\n",
       "    <tr style=\"text-align: right;\">\n",
       "      <th></th>\n",
       "      <th>displacement</th>\n",
       "      <th>horsepower</th>\n",
       "      <th>weight</th>\n",
       "      <th>acceleration</th>\n",
       "    </tr>\n",
       "  </thead>\n",
       "  <tbody>\n",
       "    <tr>\n",
       "      <th>displacement</th>\n",
       "      <td>1.000000</td>\n",
       "      <td>0.897257</td>\n",
       "      <td>0.932994</td>\n",
       "      <td>-0.543800</td>\n",
       "    </tr>\n",
       "    <tr>\n",
       "      <th>horsepower</th>\n",
       "      <td>0.897257</td>\n",
       "      <td>1.000000</td>\n",
       "      <td>0.864538</td>\n",
       "      <td>-0.689196</td>\n",
       "    </tr>\n",
       "    <tr>\n",
       "      <th>weight</th>\n",
       "      <td>0.932994</td>\n",
       "      <td>0.864538</td>\n",
       "      <td>1.000000</td>\n",
       "      <td>-0.416839</td>\n",
       "    </tr>\n",
       "    <tr>\n",
       "      <th>acceleration</th>\n",
       "      <td>-0.543800</td>\n",
       "      <td>-0.689196</td>\n",
       "      <td>-0.416839</td>\n",
       "      <td>1.000000</td>\n",
       "    </tr>\n",
       "  </tbody>\n",
       "</table>\n",
       "</div>"
      ],
      "text/plain": [
       "              displacement  horsepower    weight  acceleration\n",
       "displacement      1.000000    0.897257  0.932994     -0.543800\n",
       "horsepower        0.897257    1.000000  0.864538     -0.689196\n",
       "weight            0.932994    0.864538  1.000000     -0.416839\n",
       "acceleration     -0.543800   -0.689196 -0.416839      1.000000"
      ]
     },
     "execution_count": 23,
     "metadata": {},
     "output_type": "execute_result"
    }
   ],
   "source": [
    "#used to check with heatmap\n",
    "IDV.corr()"
   ]
  },
  {
   "cell_type": "code",
   "execution_count": 33,
   "id": "cdad6a8f",
   "metadata": {},
   "outputs": [
    {
     "data": {
      "text/plain": [
       "<AxesSubplot:>"
      ]
     },
     "execution_count": 33,
     "metadata": {},
     "output_type": "execute_result"
    },
    {
     "data": {
      "image/png": "[encoded data removed]",
      "text/plain": [
       "<Figure size 432x288 with 2 Axes>"
      ]
     },
     "metadata": {
      "needs_background": "light"
     },
     "output_type": "display_data"
    }
   ],
   "source": [
    "sns.heatmap(IDV.corr(),annot=True,cmap='viridis')"
   ]
  },
  {
   "cell_type": "markdown",
   "id": "c1845c11",
   "metadata": {},
   "source": [
    "### We checked with IDV alone and multicollinearity exists since all are significant"
   ]
  },
  {
   "cell_type": "code",
   "execution_count": 37,
   "id": "322ff5e8",
   "metadata": {},
   "outputs": [
    {
     "name": "stdout",
     "output_type": "stream",
     "text": [
      "\n",
      "Correlation between displacement and horsepower :\n",
      "Correlation =  0.8972570018434691 \n",
      "P_value =  1.5108887258741506e-140\n",
      "Significant.\n",
      "\n",
      "\n",
      "Correlation between displacement and weight :\n",
      "Correlation =  0.9329944040890106 \n",
      "P_value =  3.489083946207091e-175\n",
      "Significant.\n",
      "\n",
      "\n",
      "Correlation between displacement and acceleration :\n",
      "Correlation =  -0.5438004967345673 \n",
      "P_value =  1.5085401440805055e-31\n",
      "Significant.\n",
      "\n",
      "\n",
      "Correlation between horsepower and displacement :\n",
      "Correlation =  0.8972570018434691 \n",
      "P_value =  1.5108887258741506e-140\n",
      "Significant.\n",
      "\n",
      "\n",
      "Correlation between horsepower and weight :\n",
      "Correlation =  0.8645377375741443 \n",
      "P_value =  1.3643468773732557e-118\n",
      "Significant.\n",
      "\n",
      "\n",
      "Correlation between horsepower and acceleration :\n",
      "Correlation =  -0.6891955103342364 \n",
      "P_value =  1.5818862297818033e-56\n",
      "Significant.\n",
      "\n",
      "\n",
      "Correlation between weight and displacement :\n",
      "Correlation =  0.9329944040890106 \n",
      "P_value =  3.489083946207091e-175\n",
      "Significant.\n",
      "\n",
      "\n",
      "Correlation between weight and horsepower :\n",
      "Correlation =  0.8645377375741443 \n",
      "P_value =  1.3643468773732557e-118\n",
      "Significant.\n",
      "\n",
      "\n",
      "Correlation between weight and acceleration :\n",
      "Correlation =  -0.4168392020037066 \n",
      "P_value =  6.56561570202187e-18\n",
      "Significant.\n",
      "\n",
      "\n",
      "Correlation between acceleration and displacement :\n",
      "Correlation =  -0.5438004967345673 \n",
      "P_value =  1.5085401440805055e-31\n",
      "Significant.\n",
      "\n",
      "\n",
      "Correlation between acceleration and horsepower :\n",
      "Correlation =  -0.6891955103342364 \n",
      "P_value =  1.5818862297818033e-56\n",
      "Significant.\n",
      "\n",
      "\n",
      "Correlation between acceleration and weight :\n",
      "Correlation =  -0.4168392020037066 \n",
      "P_value =  6.56561570202187e-18\n",
      "Significant.\n",
      "\n"
     ]
    }
   ],
   "source": [
    "for i in IDV.select_dtypes(exclude='category'):\n",
    "    for j in IDV.select_dtypes(exclude='category'):\n",
    "        correlation=0\n",
    "        p_value=0\n",
    "        if(i!=j):\n",
    "            print(\"\\nCorrelation between\",i,\"and\",j,\":\")\n",
    "            correlation,p_value=pearsonr(IDV[i],IDV[j])  \n",
    "            print(\"Correlation = \",correlation,\"\\nP_value = \",p_value)\n",
    "            if p_value>0.05:\n",
    "                print(\"Not Significant.\")\n",
    "            else:\n",
    "                print(\"Significant.\")\n",
    "            print()"
   ]
  },
  {
   "cell_type": "markdown",
   "id": "21c5185e",
   "metadata": {},
   "source": [
    "### we are going to find correlation between 4 numerical IDVs and 1 Dv. for that we are excluding the categorical values (origin,cylinder) from drop and storing it as drop_cat\n",
    "\n",
    "doubt? why to do this?"
   ]
  },
  {
   "cell_type": "code",
   "execution_count": 39,
   "id": "9f07d5c6",
   "metadata": {},
   "outputs": [
    {
     "data": {
      "text/html": [
       "<div>\n",
       "<style scoped>\n",
       "    .dataframe tbody tr th:only-of-type {\n",
       "        vertical-align: middle;\n",
       "    }\n",
       "\n",
       "    .dataframe tbody tr th {\n",
       "        vertical-align: top;\n",
       "    }\n",
       "\n",
       "    .dataframe thead th {\n",
       "        text-align: right;\n",
       "    }\n",
       "</style>\n",
       "<table border=\"1\" class=\"dataframe\">\n",
       "  <thead>\n",
       "    <tr style=\"text-align: right;\">\n",
       "      <th></th>\n",
       "      <th>displacement</th>\n",
       "      <th>horsepower</th>\n",
       "      <th>weight</th>\n",
       "      <th>acceleration</th>\n",
       "      <th>Kilometer_per_liter</th>\n",
       "    </tr>\n",
       "  </thead>\n",
       "  <tbody>\n",
       "    <tr>\n",
       "      <th>0</th>\n",
       "      <td>307.0</td>\n",
       "      <td>130.0</td>\n",
       "      <td>3504</td>\n",
       "      <td>12.0</td>\n",
       "      <td>7.652587</td>\n",
       "    </tr>\n",
       "    <tr>\n",
       "      <th>1</th>\n",
       "      <td>350.0</td>\n",
       "      <td>165.0</td>\n",
       "      <td>3693</td>\n",
       "      <td>11.5</td>\n",
       "      <td>6.377156</td>\n",
       "    </tr>\n",
       "    <tr>\n",
       "      <th>2</th>\n",
       "      <td>318.0</td>\n",
       "      <td>150.0</td>\n",
       "      <td>3436</td>\n",
       "      <td>11.0</td>\n",
       "      <td>7.652587</td>\n",
       "    </tr>\n",
       "    <tr>\n",
       "      <th>3</th>\n",
       "      <td>304.0</td>\n",
       "      <td>150.0</td>\n",
       "      <td>3433</td>\n",
       "      <td>12.0</td>\n",
       "      <td>6.802299</td>\n",
       "    </tr>\n",
       "    <tr>\n",
       "      <th>4</th>\n",
       "      <td>302.0</td>\n",
       "      <td>140.0</td>\n",
       "      <td>3449</td>\n",
       "      <td>10.5</td>\n",
       "      <td>7.227443</td>\n",
       "    </tr>\n",
       "    <tr>\n",
       "      <th>...</th>\n",
       "      <td>...</td>\n",
       "      <td>...</td>\n",
       "      <td>...</td>\n",
       "      <td>...</td>\n",
       "      <td>...</td>\n",
       "    </tr>\n",
       "    <tr>\n",
       "      <th>393</th>\n",
       "      <td>140.0</td>\n",
       "      <td>86.0</td>\n",
       "      <td>2790</td>\n",
       "      <td>15.6</td>\n",
       "      <td>11.478880</td>\n",
       "    </tr>\n",
       "    <tr>\n",
       "      <th>394</th>\n",
       "      <td>97.0</td>\n",
       "      <td>52.0</td>\n",
       "      <td>2130</td>\n",
       "      <td>24.6</td>\n",
       "      <td>18.706323</td>\n",
       "    </tr>\n",
       "    <tr>\n",
       "      <th>395</th>\n",
       "      <td>135.0</td>\n",
       "      <td>84.0</td>\n",
       "      <td>2295</td>\n",
       "      <td>11.6</td>\n",
       "      <td>13.604599</td>\n",
       "    </tr>\n",
       "    <tr>\n",
       "      <th>396</th>\n",
       "      <td>120.0</td>\n",
       "      <td>79.0</td>\n",
       "      <td>2625</td>\n",
       "      <td>18.6</td>\n",
       "      <td>11.904024</td>\n",
       "    </tr>\n",
       "    <tr>\n",
       "      <th>397</th>\n",
       "      <td>119.0</td>\n",
       "      <td>82.0</td>\n",
       "      <td>2720</td>\n",
       "      <td>19.4</td>\n",
       "      <td>13.179455</td>\n",
       "    </tr>\n",
       "  </tbody>\n",
       "</table>\n",
       "<p>392 rows × 5 columns</p>\n",
       "</div>"
      ],
      "text/plain": [
       "     displacement  horsepower  weight  acceleration  Kilometer_per_liter\n",
       "0           307.0       130.0    3504          12.0             7.652587\n",
       "1           350.0       165.0    3693          11.5             6.377156\n",
       "2           318.0       150.0    3436          11.0             7.652587\n",
       "3           304.0       150.0    3433          12.0             6.802299\n",
       "4           302.0       140.0    3449          10.5             7.227443\n",
       "..            ...         ...     ...           ...                  ...\n",
       "393         140.0        86.0    2790          15.6            11.478880\n",
       "394          97.0        52.0    2130          24.6            18.706323\n",
       "395         135.0        84.0    2295          11.6            13.604599\n",
       "396         120.0        79.0    2625          18.6            11.904024\n",
       "397         119.0        82.0    2720          19.4            13.179455\n",
       "\n",
       "[392 rows x 5 columns]"
      ]
     },
     "execution_count": 39,
     "metadata": {},
     "output_type": "execute_result"
    }
   ],
   "source": [
    "drop_category=drop.iloc[:,2:7]\n",
    "drop_category"
   ]
  },
  {
   "cell_type": "code",
   "execution_count": 40,
   "id": "42b734c0",
   "metadata": {},
   "outputs": [
    {
     "data": {
      "text/html": [
       "<div>\n",
       "<style scoped>\n",
       "    .dataframe tbody tr th:only-of-type {\n",
       "        vertical-align: middle;\n",
       "    }\n",
       "\n",
       "    .dataframe tbody tr th {\n",
       "        vertical-align: top;\n",
       "    }\n",
       "\n",
       "    .dataframe thead th {\n",
       "        text-align: right;\n",
       "    }\n",
       "</style>\n",
       "<table border=\"1\" class=\"dataframe\">\n",
       "  <thead>\n",
       "    <tr style=\"text-align: right;\">\n",
       "      <th></th>\n",
       "      <th>displacement</th>\n",
       "      <th>horsepower</th>\n",
       "      <th>weight</th>\n",
       "      <th>acceleration</th>\n",
       "      <th>Kilometer_per_liter</th>\n",
       "    </tr>\n",
       "  </thead>\n",
       "  <tbody>\n",
       "    <tr>\n",
       "      <th>displacement</th>\n",
       "      <td>1.000000</td>\n",
       "      <td>0.897257</td>\n",
       "      <td>0.932994</td>\n",
       "      <td>-0.543800</td>\n",
       "      <td>-0.805127</td>\n",
       "    </tr>\n",
       "    <tr>\n",
       "      <th>horsepower</th>\n",
       "      <td>0.897257</td>\n",
       "      <td>1.000000</td>\n",
       "      <td>0.864538</td>\n",
       "      <td>-0.689196</td>\n",
       "      <td>-0.778427</td>\n",
       "    </tr>\n",
       "    <tr>\n",
       "      <th>weight</th>\n",
       "      <td>0.932994</td>\n",
       "      <td>0.864538</td>\n",
       "      <td>1.000000</td>\n",
       "      <td>-0.416839</td>\n",
       "      <td>-0.832244</td>\n",
       "    </tr>\n",
       "    <tr>\n",
       "      <th>acceleration</th>\n",
       "      <td>-0.543800</td>\n",
       "      <td>-0.689196</td>\n",
       "      <td>-0.416839</td>\n",
       "      <td>1.000000</td>\n",
       "      <td>0.423329</td>\n",
       "    </tr>\n",
       "    <tr>\n",
       "      <th>Kilometer_per_liter</th>\n",
       "      <td>-0.805127</td>\n",
       "      <td>-0.778427</td>\n",
       "      <td>-0.832244</td>\n",
       "      <td>0.423329</td>\n",
       "      <td>1.000000</td>\n",
       "    </tr>\n",
       "  </tbody>\n",
       "</table>\n",
       "</div>"
      ],
      "text/plain": [
       "                     displacement  horsepower    weight  acceleration  \\\n",
       "displacement             1.000000    0.897257  0.932994     -0.543800   \n",
       "horsepower               0.897257    1.000000  0.864538     -0.689196   \n",
       "weight                   0.932994    0.864538  1.000000     -0.416839   \n",
       "acceleration            -0.543800   -0.689196 -0.416839      1.000000   \n",
       "Kilometer_per_liter     -0.805127   -0.778427 -0.832244      0.423329   \n",
       "\n",
       "                     Kilometer_per_liter  \n",
       "displacement                   -0.805127  \n",
       "horsepower                     -0.778427  \n",
       "weight                         -0.832244  \n",
       "acceleration                    0.423329  \n",
       "Kilometer_per_liter             1.000000  "
      ]
     },
     "execution_count": 40,
     "metadata": {},
     "output_type": "execute_result"
    }
   ],
   "source": [
    "drop_category.corr()"
   ]
  },
  {
   "cell_type": "code",
   "execution_count": 41,
   "id": "46c31bad",
   "metadata": {},
   "outputs": [
    {
     "data": {
      "text/plain": [
       "<AxesSubplot:>"
      ]
     },
     "execution_count": 41,
     "metadata": {},
     "output_type": "execute_result"
    },
    {
     "data": {
      "image/png": "[encoded data removed]",
      "text/plain": [
       "<Figure size 432x288 with 2 Axes>"
      ]
     },
     "metadata": {
      "needs_background": "light"
     },
     "output_type": "display_data"
    }
   ],
   "source": [
    "sns.heatmap(drop_category.corr(),annot=True,cmap='viridis')"
   ]
  },
  {
   "cell_type": "code",
   "execution_count": 42,
   "id": "ce3ad034",
   "metadata": {},
   "outputs": [
    {
     "name": "stdout",
     "output_type": "stream",
     "text": [
      "\n",
      "Correlation between displacement and horsepower :\n",
      "Correlation =  0.8972570018434691 \n",
      "P_value =  1.5108887258741506e-140\n",
      "Significant.\n",
      "\n",
      "\n",
      "Correlation between displacement and weight :\n",
      "Correlation =  0.9329944040890106 \n",
      "P_value =  3.489083946207091e-175\n",
      "Significant.\n",
      "\n",
      "\n",
      "Correlation between displacement and acceleration :\n",
      "Correlation =  -0.5438004967345673 \n",
      "P_value =  1.5085401440805055e-31\n",
      "Significant.\n",
      "\n",
      "\n",
      "Correlation between displacement and Kilometer_per_liter :\n",
      "Correlation =  -0.8051269467334896 \n",
      "P_value =  1.6606417936100068e-90\n",
      "Significant.\n",
      "\n",
      "\n",
      "Correlation between horsepower and displacement :\n",
      "Correlation =  0.8972570018434691 \n",
      "P_value =  1.5108887258741506e-140\n",
      "Significant.\n",
      "\n",
      "\n",
      "Correlation between horsepower and weight :\n",
      "Correlation =  0.8645377375741443 \n",
      "P_value =  1.3643468773732557e-118\n",
      "Significant.\n",
      "\n",
      "\n",
      "Correlation between horsepower and acceleration :\n",
      "Correlation =  -0.6891955103342364 \n",
      "P_value =  1.5818862297818033e-56\n",
      "Significant.\n",
      "\n",
      "\n",
      "Correlation between horsepower and Kilometer_per_liter :\n",
      "Correlation =  -0.7784267839110669 \n",
      "P_value =  7.031988957280459e-81\n",
      "Significant.\n",
      "\n",
      "\n",
      "Correlation between weight and displacement :\n",
      "Correlation =  0.9329944040890106 \n",
      "P_value =  3.489083946207091e-175\n",
      "Significant.\n",
      "\n",
      "\n",
      "Correlation between weight and horsepower :\n",
      "Correlation =  0.8645377375741443 \n",
      "P_value =  1.3643468773732557e-118\n",
      "Significant.\n",
      "\n",
      "\n",
      "Correlation between weight and acceleration :\n",
      "Correlation =  -0.4168392020037066 \n",
      "P_value =  6.56561570202187e-18\n",
      "Significant.\n",
      "\n",
      "\n",
      "Correlation between weight and Kilometer_per_liter :\n",
      "Correlation =  -0.8322442148558429 \n",
      "P_value =  6.015295897114415e-102\n",
      "Significant.\n",
      "\n",
      "\n",
      "Correlation between acceleration and displacement :\n",
      "Correlation =  -0.5438004967345673 \n",
      "P_value =  1.5085401440805055e-31\n",
      "Significant.\n",
      "\n",
      "\n",
      "Correlation between acceleration and horsepower :\n",
      "Correlation =  -0.6891955103342364 \n",
      "P_value =  1.5818862297818033e-56\n",
      "Significant.\n",
      "\n",
      "\n",
      "Correlation between acceleration and weight :\n",
      "Correlation =  -0.4168392020037066 \n",
      "P_value =  6.56561570202187e-18\n",
      "Significant.\n",
      "\n",
      "\n",
      "Correlation between acceleration and Kilometer_per_liter :\n",
      "Correlation =  0.4233285368825963 \n",
      "P_value =  1.778576132110161e-18\n",
      "Significant.\n",
      "\n",
      "\n",
      "Correlation between Kilometer_per_liter and displacement :\n",
      "Correlation =  -0.8051269467334896 \n",
      "P_value =  1.6606417936100068e-90\n",
      "Significant.\n",
      "\n",
      "\n",
      "Correlation between Kilometer_per_liter and horsepower :\n",
      "Correlation =  -0.7784267839110669 \n",
      "P_value =  7.031988957280459e-81\n",
      "Significant.\n",
      "\n",
      "\n",
      "Correlation between Kilometer_per_liter and weight :\n",
      "Correlation =  -0.8322442148558429 \n",
      "P_value =  6.015295897114415e-102\n",
      "Significant.\n",
      "\n",
      "\n",
      "Correlation between Kilometer_per_liter and acceleration :\n",
      "Correlation =  0.4233285368825963 \n",
      "P_value =  1.778576132110161e-18\n",
      "Significant.\n",
      "\n"
     ]
    }
   ],
   "source": [
    "for i in drop_category.select_dtypes(exclude='category'):\n",
    "    for j in drop_category.select_dtypes(exclude='category'):\n",
    "        correlation=0\n",
    "        p_value=0\n",
    "        if(i!=j):\n",
    "            print(\"\\nCorrelation between\",i,\"and\",j,\":\")\n",
    "            correlation,p_value=pearsonr(drop_category[i],drop_category[j])  \n",
    "            print(\"Correlation = \",correlation,\"\\nP_value = \",p_value)\n",
    "            if p_value>0.05:\n",
    "                print(\"Not Significant.\")\n",
    "            else:\n",
    "                print(\"Significant.\")\n",
    "            print()"
   ]
  },
  {
   "cell_type": "markdown",
   "id": "ac7c830f",
   "metadata": {},
   "source": [
    "## To check Normality of errors"
   ]
  },
  {
   "cell_type": "markdown",
   "id": "6e6ba1bd",
   "metadata": {},
   "source": [
    "#### we are using shapiro because dataselt is below 5000. \n",
    "#if >5000 use Anderson ;\n",
    "As a rule of thumb, we reject the null hypothesis if p < 0.05."
   ]
  },
  {
   "cell_type": "code",
   "execution_count": 45,
   "id": "9859f603",
   "metadata": {},
   "outputs": [
    {
     "data": {
      "text/plain": [
       "ShapiroResult(statistic=0.967170000076294, pvalue=1.0495841706870124e-07)"
      ]
     },
     "execution_count": 45,
     "metadata": {},
     "output_type": "execute_result"
    }
   ],
   "source": [
    "from scipy.stats import anderson,shapiro,kstest\n",
    "from scipy import stats\n",
    "shapiro_test = stats.shapiro(drop.Kilometer_per_liter)\n",
    "shapiro_test"
   ]
  },
  {
   "cell_type": "code",
   "execution_count": 46,
   "id": "019f624b",
   "metadata": {},
   "outputs": [
    {
     "name": "stdout",
     "output_type": "stream",
     "text": [
      "Not Significant\n"
     ]
    }
   ],
   "source": [
    "s,p=shapiro(drop.Kilometer_per_liter)\n",
    "if p>0.05:\n",
    "    print(\"Significant\")\n",
    "else:\n",
    "    print(\"Not Significant\")"
   ]
  },
  {
   "cell_type": "markdown",
   "id": "88dbdf25",
   "metadata": {},
   "source": [
    "#### Feature Transformation technique for Normality check ,since the normality cheked using shapiro is not significant\n",
    "#FT has 4 types where in this case we use LOG TRANSFORMATION\n",
    "\n",
    "#doubt why we use log??"
   ]
  },
  {
   "cell_type": "code",
   "execution_count": 49,
   "id": "b25a8377",
   "metadata": {
    "scrolled": true
   },
   "outputs": [
    {
     "data": {
      "text/plain": [
       "0      0.883808\n",
       "1      0.804627\n",
       "2      0.883808\n",
       "3      0.832656\n",
       "4      0.858985\n",
       "         ...   \n",
       "393    1.059900\n",
       "394    1.271988\n",
       "395    1.133686\n",
       "396    1.075694\n",
       "397    1.119897\n",
       "Name: Kilometer_per_liter, Length: 392, dtype: float64"
      ]
     },
     "execution_count": 49,
     "metadata": {},
     "output_type": "execute_result"
    }
   ],
   "source": [
    "np.log10(drop_category.Kilometer_per_liter)"
   ]
  },
  {
   "cell_type": "markdown",
   "id": "34b3e2f3",
   "metadata": {},
   "source": [
    "### To build Linear model"
   ]
  },
  {
   "cell_type": "code",
   "execution_count": 50,
   "id": "c63b39c8",
   "metadata": {},
   "outputs": [],
   "source": [
    "from sklearn.model_selection import train_test_split"
   ]
  },
  {
   "cell_type": "code",
   "execution_count": 51,
   "id": "729a4c03",
   "metadata": {},
   "outputs": [
    {
     "data": {
      "text/html": [
       "<div>\n",
       "<style scoped>\n",
       "    .dataframe tbody tr th:only-of-type {\n",
       "        vertical-align: middle;\n",
       "    }\n",
       "\n",
       "    .dataframe tbody tr th {\n",
       "        vertical-align: top;\n",
       "    }\n",
       "\n",
       "    .dataframe thead th {\n",
       "        text-align: right;\n",
       "    }\n",
       "</style>\n",
       "<table border=\"1\" class=\"dataframe\">\n",
       "  <thead>\n",
       "    <tr style=\"text-align: right;\">\n",
       "      <th></th>\n",
       "      <th>origin</th>\n",
       "      <th>cylinders</th>\n",
       "      <th>displacement</th>\n",
       "      <th>horsepower</th>\n",
       "      <th>weight</th>\n",
       "      <th>acceleration</th>\n",
       "    </tr>\n",
       "  </thead>\n",
       "  <tbody>\n",
       "    <tr>\n",
       "      <th>0</th>\n",
       "      <td>1</td>\n",
       "      <td>8</td>\n",
       "      <td>307.0</td>\n",
       "      <td>130.0</td>\n",
       "      <td>3504</td>\n",
       "      <td>12.0</td>\n",
       "    </tr>\n",
       "    <tr>\n",
       "      <th>1</th>\n",
       "      <td>1</td>\n",
       "      <td>8</td>\n",
       "      <td>350.0</td>\n",
       "      <td>165.0</td>\n",
       "      <td>3693</td>\n",
       "      <td>11.5</td>\n",
       "    </tr>\n",
       "    <tr>\n",
       "      <th>2</th>\n",
       "      <td>1</td>\n",
       "      <td>8</td>\n",
       "      <td>318.0</td>\n",
       "      <td>150.0</td>\n",
       "      <td>3436</td>\n",
       "      <td>11.0</td>\n",
       "    </tr>\n",
       "    <tr>\n",
       "      <th>3</th>\n",
       "      <td>1</td>\n",
       "      <td>8</td>\n",
       "      <td>304.0</td>\n",
       "      <td>150.0</td>\n",
       "      <td>3433</td>\n",
       "      <td>12.0</td>\n",
       "    </tr>\n",
       "    <tr>\n",
       "      <th>4</th>\n",
       "      <td>1</td>\n",
       "      <td>8</td>\n",
       "      <td>302.0</td>\n",
       "      <td>140.0</td>\n",
       "      <td>3449</td>\n",
       "      <td>10.5</td>\n",
       "    </tr>\n",
       "    <tr>\n",
       "      <th>...</th>\n",
       "      <td>...</td>\n",
       "      <td>...</td>\n",
       "      <td>...</td>\n",
       "      <td>...</td>\n",
       "      <td>...</td>\n",
       "      <td>...</td>\n",
       "    </tr>\n",
       "    <tr>\n",
       "      <th>393</th>\n",
       "      <td>1</td>\n",
       "      <td>4</td>\n",
       "      <td>140.0</td>\n",
       "      <td>86.0</td>\n",
       "      <td>2790</td>\n",
       "      <td>15.6</td>\n",
       "    </tr>\n",
       "    <tr>\n",
       "      <th>394</th>\n",
       "      <td>2</td>\n",
       "      <td>4</td>\n",
       "      <td>97.0</td>\n",
       "      <td>52.0</td>\n",
       "      <td>2130</td>\n",
       "      <td>24.6</td>\n",
       "    </tr>\n",
       "    <tr>\n",
       "      <th>395</th>\n",
       "      <td>1</td>\n",
       "      <td>4</td>\n",
       "      <td>135.0</td>\n",
       "      <td>84.0</td>\n",
       "      <td>2295</td>\n",
       "      <td>11.6</td>\n",
       "    </tr>\n",
       "    <tr>\n",
       "      <th>396</th>\n",
       "      <td>1</td>\n",
       "      <td>4</td>\n",
       "      <td>120.0</td>\n",
       "      <td>79.0</td>\n",
       "      <td>2625</td>\n",
       "      <td>18.6</td>\n",
       "    </tr>\n",
       "    <tr>\n",
       "      <th>397</th>\n",
       "      <td>1</td>\n",
       "      <td>4</td>\n",
       "      <td>119.0</td>\n",
       "      <td>82.0</td>\n",
       "      <td>2720</td>\n",
       "      <td>19.4</td>\n",
       "    </tr>\n",
       "  </tbody>\n",
       "</table>\n",
       "<p>392 rows × 6 columns</p>\n",
       "</div>"
      ],
      "text/plain": [
       "    origin cylinders  displacement  horsepower  weight  acceleration\n",
       "0        1         8         307.0       130.0    3504          12.0\n",
       "1        1         8         350.0       165.0    3693          11.5\n",
       "2        1         8         318.0       150.0    3436          11.0\n",
       "3        1         8         304.0       150.0    3433          12.0\n",
       "4        1         8         302.0       140.0    3449          10.5\n",
       "..     ...       ...           ...         ...     ...           ...\n",
       "393      1         4         140.0        86.0    2790          15.6\n",
       "394      2         4          97.0        52.0    2130          24.6\n",
       "395      1         4         135.0        84.0    2295          11.6\n",
       "396      1         4         120.0        79.0    2625          18.6\n",
       "397      1         4         119.0        82.0    2720          19.4\n",
       "\n",
       "[392 rows x 6 columns]"
      ]
     },
     "execution_count": 51,
     "metadata": {},
     "output_type": "execute_result"
    }
   ],
   "source": [
    "x=drop.iloc[:,:-1]   #independent variables stored in x\n",
    "x"
   ]
  },
  {
   "cell_type": "code",
   "execution_count": 52,
   "id": "fa53b7c8",
   "metadata": {},
   "outputs": [
    {
     "data": {
      "text/plain": [
       "0       7.652587\n",
       "1       6.377156\n",
       "2       7.652587\n",
       "3       6.802299\n",
       "4       7.227443\n",
       "         ...    \n",
       "393    11.478880\n",
       "394    18.706323\n",
       "395    13.604599\n",
       "396    11.904024\n",
       "397    13.179455\n",
       "Name: Kilometer_per_liter, Length: 392, dtype: float64"
      ]
     },
     "execution_count": 52,
     "metadata": {},
     "output_type": "execute_result"
    }
   ],
   "source": [
    "y=drop.iloc[:,-1]   #dependent values stored in y\n",
    "y"
   ]
  },
  {
   "cell_type": "code",
   "execution_count": 53,
   "id": "b7fc495d",
   "metadata": {},
   "outputs": [],
   "source": [
    "x_train, x_test, y_train, y_test = train_test_split(x,y, test_size=0.3)  # test size=30% and train size =70%"
   ]
  },
  {
   "cell_type": "code",
   "execution_count": 54,
   "id": "9a1195e4",
   "metadata": {},
   "outputs": [
    {
     "name": "stdout",
     "output_type": "stream",
     "text": [
      "(274, 6)\n",
      "(118, 6)\n",
      "(274,)\n",
      "(118,)\n"
     ]
    }
   ],
   "source": [
    "print(x_train.shape)\n",
    "print(x_test.shape)\n",
    "print(y_train.shape)\n",
    "print(y_test.shape)"
   ]
  },
  {
   "cell_type": "code",
   "execution_count": 55,
   "id": "bcec79db",
   "metadata": {},
   "outputs": [],
   "source": [
    "from sklearn.linear_model import LinearRegression"
   ]
  },
  {
   "cell_type": "code",
   "execution_count": 56,
   "id": "fc7d34ef",
   "metadata": {},
   "outputs": [],
   "source": [
    "l=LinearRegression()  #storing LR in variable l"
   ]
  },
  {
   "cell_type": "code",
   "execution_count": 58,
   "id": "ae61ffbc",
   "metadata": {},
   "outputs": [
    {
     "data": {
      "text/plain": [
       "LinearRegression()"
      ]
     },
     "execution_count": 58,
     "metadata": {},
     "output_type": "execute_result"
    }
   ],
   "source": [
    "l.fit(x_train,y_train) #fit x and y train and assign in l"
   ]
  },
  {
   "cell_type": "code",
   "execution_count": 59,
   "id": "2a8cfc1e",
   "metadata": {},
   "outputs": [
    {
     "data": {
      "text/plain": [
       "array([ 0.44504806, -0.37780734,  0.00554783, -0.02557467, -0.00196373,\n",
       "       -0.01762912])"
      ]
     },
     "execution_count": 59,
     "metadata": {},
     "output_type": "execute_result"
    }
   ],
   "source": [
    "l.coef_  #y=mx+c ; coeff is m value (wherein m is slope)"
   ]
  },
  {
   "cell_type": "code",
   "execution_count": 60,
   "id": "c87a1cec",
   "metadata": {},
   "outputs": [
    {
     "data": {
      "text/plain": [
       "19.022982365926133"
      ]
     },
     "execution_count": 60,
     "metadata": {},
     "output_type": "execute_result"
    }
   ],
   "source": [
    "l.intercept_   #intercept is c value"
   ]
  },
  {
   "cell_type": "markdown",
   "id": "40691930",
   "metadata": {},
   "source": [
    "### To find Train RMSE\n",
    "\n",
    "\n",
    "Things to find: \n",
    "\n",
    "Train_pred\n",
    "\n",
    "\n",
    "Error for train data\n",
    "\n",
    "KDE Plot\n",
    "\n",
    "find the mean squared error for train\n",
    "\n",
    "find the R sqaured value for train "
   ]
  },
  {
   "cell_type": "code",
   "execution_count": 62,
   "id": "7ad3d810",
   "metadata": {},
   "outputs": [
    {
     "data": {
      "text/plain": [
       "array([10.6488789 ,  5.85087151, 12.49604892,  7.00074848,  6.54820678,\n",
       "        6.93224481, 13.1420131 , 10.83652481, 10.43564407, 10.03357013,\n",
       "        5.65971882, 12.54094785, 12.69610285,  8.30612609, 10.26053568,\n",
       "       12.87990979,  9.81818906,  4.94759216, 12.32417636, 10.63700608,\n",
       "       12.0409062 , 13.43574149, 10.70396044, 12.55386384, 12.42910445,\n",
       "        8.73759566,  9.78373988,  8.19787438,  4.78560682,  8.07494249,\n",
       "        9.43731501,  7.73159572, 13.48441616,  8.45161292, 10.24138256,\n",
       "       10.11426992,  5.22473411, 11.55356224, 11.44902019, 14.16465376,\n",
       "       13.02399043, 12.26440721,  9.36474678, 11.8462322 , 11.59115186,\n",
       "       12.71093088, 13.1663043 , 13.50274413, 12.94933443, 11.73984742,\n",
       "        9.32128456, 11.64657883, 10.22346694, 10.03591167, 13.35089956,\n",
       "        7.43229103,  4.72672755, 10.52793984,  6.88236709, 11.1194541 ,\n",
       "       12.63566269, 11.9405706 , 11.87973797, 13.76179659, 11.38864219,\n",
       "       10.92857728,  7.26164118, 11.57586642, 12.17444594,  9.3281802 ,\n",
       "       12.17296774, 11.67427184,  9.83530033,  6.43271783,  8.1596539 ,\n",
       "        6.71270884, 12.90931182, 12.90238097, 12.23946236, 10.46542929,\n",
       "       12.39602946, 11.05553588, 12.10946128,  4.62912472, 12.91710291,\n",
       "       13.43501773,  5.79764305, 12.56198302,  9.45414056, 10.27896323,\n",
       "        4.53931981,  3.8958899 ,  8.82473155, 12.02275217, 11.88121645,\n",
       "        8.36972836,  7.22519219,  6.9791771 ,  9.06280108, 13.40745003,\n",
       "       11.79953946, 11.71223643, 12.12180869, 13.4338555 , 11.27598399,\n",
       "       10.53909554,  6.13010131, 12.8025066 , 13.61012972, 13.79871598,\n",
       "       12.71975645,  5.06793125, 11.30713433,  6.88236709,  9.86557085,\n",
       "       11.96102581,  9.92644642,  7.27076661, 11.48368489, 11.88323552,\n",
       "       10.16770516, 13.0603781 , 10.7802602 , 12.93677225, 10.38462438,\n",
       "       10.86654488,  5.28511006, 13.99344155, 13.19664492,  5.38325202,\n",
       "       12.25062346, 11.18271019,  8.37827788,  6.14252366, 12.70016073,\n",
       "        9.79760273, 10.66679711,  5.66306978, 13.40777264, 12.67045471,\n",
       "        9.27175988, 10.39482167,  6.39485145, 10.88127172, 13.30263716,\n",
       "        7.32997521, 12.23235573, 10.10382857,  9.20082673, 12.29758455,\n",
       "       13.20262972, 11.82851067, 11.6916681 ,  6.76710466, 12.03389174,\n",
       "        9.76475709,  5.55513797,  4.77061961, 11.68416816,  4.21418674,\n",
       "       10.139718  ,  7.04964212, 14.02180112, 11.07452431,  6.73621613,\n",
       "        9.31983326,  7.06209903,  9.91780826,  4.21422406, 11.32255126,\n",
       "       14.05757015, 12.826028  , 13.05282034,  9.27625212, 13.469078  ,\n",
       "        8.82820225, 12.81215602,  5.09731705,  7.34288351, 13.05685228,\n",
       "       13.3207221 ,  6.00274355, 11.12882637, 11.39102587, 11.24080985,\n",
       "        9.57977471,  8.38728011, 12.19619031, 11.59743894, 11.92272088,\n",
       "       12.5702636 ,  6.4037881 ,  5.63128119, 10.01418273, 12.71842927,\n",
       "        8.25219059,  6.12065408,  3.88402467,  6.75297448, 10.73189861,\n",
       "        9.22017479,  6.08461591,  8.94783494, 12.93393869,  5.06097111,\n",
       "       13.42439836,  3.99605139,  7.38633207,  4.96943022,  9.17864012,\n",
       "       12.92871652, 13.51533161, 10.05193029,  6.61845884,  5.34454142,\n",
       "       11.52390534, 11.77207565,  6.86430656, 11.8334422 , 12.36998742,\n",
       "        9.69039254,  4.03394246,  8.41037464,  6.96816   ,  9.17869877,\n",
       "        7.58255858,  9.6189508 ,  9.81385403, 10.78959866,  9.58009149,\n",
       "        9.88533089, 12.0990935 ,  7.92401662, 12.42221462,  8.47897078,\n",
       "       12.69610285, 11.97716012,  4.72869495, 11.31700666,  9.58133681,\n",
       "        8.51713702,  9.63704145, 12.32689729, 13.51589478, 12.23869652,\n",
       "       12.31644082,  4.3497454 , 12.46995635,  6.52988309, 10.52801769,\n",
       "        6.01557242,  5.81385072, 13.44509163,  6.05091368, 12.32787483,\n",
       "       11.23152333, 12.27390678,  8.19359748, 12.07945445,  9.20474406,\n",
       "        6.03983727, 10.08645654, 10.94305896, 13.32530817,  5.69061067,\n",
       "        7.03781622, 12.99368885,  9.55373563, 12.29423035,  9.95608363,\n",
       "       10.50276857, 14.4095815 ,  8.77369406, 12.31578758])"
      ]
     },
     "execution_count": 62,
     "metadata": {},
     "output_type": "execute_result"
    }
   ],
   "source": [
    "train_pred=l.predict(x_train)\n",
    "train_pred"
   ]
  },
  {
   "cell_type": "code",
   "execution_count": 63,
   "id": "7780ee71",
   "metadata": {},
   "outputs": [],
   "source": [
    "error=y_train-train_pred"
   ]
  },
  {
   "cell_type": "code",
   "execution_count": 64,
   "id": "8c7f0d5e",
   "metadata": {},
   "outputs": [
    {
     "data": {
      "text/plain": [
       "78    -1.720861\n",
       "91    -0.324003\n",
       "378    3.659412\n",
       "285    0.226695\n",
       "290    0.041521\n",
       "         ...   \n",
       "360    3.095828\n",
       "282   -1.022064\n",
       "144   -1.230127\n",
       "226   -0.058248\n",
       "350    2.436699\n",
       "Name: Kilometer_per_liter, Length: 274, dtype: float64"
      ]
     },
     "execution_count": 64,
     "metadata": {},
     "output_type": "execute_result"
    }
   ],
   "source": [
    "error   #error for train data"
   ]
  },
  {
   "cell_type": "code",
   "execution_count": 65,
   "id": "8125419b",
   "metadata": {},
   "outputs": [
    {
     "data": {
      "text/plain": [
       "<AxesSubplot:xlabel='Kilometer_per_liter', ylabel='Density'>"
      ]
     },
     "execution_count": 65,
     "metadata": {},
     "output_type": "execute_result"
    },
    {
     "data": {
      "image/png": "[encoded data removed]",
      "text/plain": [
       "<Figure size 432x288 with 1 Axes>"
      ]
     },
     "metadata": {
      "needs_background": "light"
     },
     "output_type": "display_data"
    }
   ],
   "source": [
    "sns.kdeplot(error)"
   ]
  },
  {
   "cell_type": "code",
   "execution_count": 66,
   "id": "4102dd97",
   "metadata": {},
   "outputs": [],
   "source": [
    "from sklearn.metrics import mean_squared_error,r2_score"
   ]
  },
  {
   "cell_type": "code",
   "execution_count": 67,
   "id": "23161a23",
   "metadata": {},
   "outputs": [
    {
     "data": {
      "text/plain": [
       "2.9526863417717726"
      ]
     },
     "execution_count": 67,
     "metadata": {},
     "output_type": "execute_result"
    }
   ],
   "source": [
    "mean_squared_error(train_pred,y_train)"
   ]
  },
  {
   "cell_type": "code",
   "execution_count": 68,
   "id": "bba7bdfd",
   "metadata": {},
   "outputs": [
    {
     "data": {
      "text/plain": [
       "1.7183382501043771"
      ]
     },
     "execution_count": 68,
     "metadata": {},
     "output_type": "execute_result"
    }
   ],
   "source": [
    "np.sqrt(mean_squared_error(train_pred,y_train))     #Train RMSE"
   ]
  },
  {
   "cell_type": "code",
   "execution_count": 69,
   "id": "cbf5e5b0",
   "metadata": {},
   "outputs": [
    {
     "data": {
      "text/plain": [
       "0.7174127050002899"
      ]
     },
     "execution_count": 69,
     "metadata": {},
     "output_type": "execute_result"
    }
   ],
   "source": [
    "r2_score(y_train,train_pred)   # R sq of Train RMSE"
   ]
  },
  {
   "cell_type": "markdown",
   "id": "32bbb11c",
   "metadata": {},
   "source": [
    "### To find Test RMSE\n",
    "\n",
    "\n",
    "Things to find: \n",
    "\n",
    "Test_pred\n",
    "\n",
    "\n",
    "Error for test data\n",
    "\n",
    "KDE Plot\n",
    "\n",
    "find the mean squared error for test\n",
    "\n",
    "find the R sqaured value for test"
   ]
  },
  {
   "cell_type": "code",
   "execution_count": 71,
   "id": "995793e3",
   "metadata": {},
   "outputs": [
    {
     "data": {
      "text/plain": [
       "array([10.83800926,  6.10097237, 11.06724525, 13.39654354,  5.57864722,\n",
       "       10.87009764, 12.92161704, 12.63336113,  9.4876982 ,  8.68485001,\n",
       "        5.59871002,  5.56296835, 12.12307503, 14.16289085, 12.76479106,\n",
       "       12.24562774, 10.52917759,  5.15072593,  7.27544504, 13.17416404,\n",
       "       10.77467501,  5.36663926, 11.07056612,  9.77446143,  5.30699955,\n",
       "       12.53671934, 12.11006853,  5.22031931,  6.2698978 , 11.65259368,\n",
       "        9.92479056, 11.57686619,  8.57348985,  9.95197488, 13.99687132,\n",
       "        9.17998502,  5.91638194, 12.31883032, 12.53248064,  6.50451818,\n",
       "       12.9985754 , 11.13753369, 12.08299991, 11.72896315, 10.76874085,\n",
       "        8.60105369, 10.20154657,  8.52272819, 10.30355024,  9.9445086 ,\n",
       "       13.31527299, 12.94598504, 12.47094151,  9.73204094,  3.57770084,\n",
       "        5.82624834,  8.89786206,  8.85317307,  8.33154968, 13.60282349,\n",
       "       13.41717276,  8.88145384, 13.56407271, 11.66626534, 10.19353704,\n",
       "        8.17424698, 10.81544352, 10.96758334, 11.61540261,  7.62702447,\n",
       "       10.45208245,  6.42427547, 11.71264533, 13.30954449, 11.85516916,\n",
       "        6.43386841,  6.64032271,  4.76894629, 10.00954953, 13.76206816,\n",
       "        7.50494897, 10.36665254, 12.44011633, 11.98648727,  6.58970374,\n",
       "       10.64893886, 13.43260616, 12.61632073, 11.82793081, 11.38985338,\n",
       "        4.17611068,  8.74546479,  9.74971566,  3.83468967,  4.90154671,\n",
       "       11.35935204,  6.37579834, 12.69824256,  8.0521314 , 10.18954153,\n",
       "       13.51508451, 13.13541728, 11.06211972,  9.34443203,  3.63482365,\n",
       "        7.01175897, 12.61703256, 10.80468279,  6.09942335, 10.71057904,\n",
       "       13.47901178,  5.71322469,  7.47085957, 13.70974013,  7.71346218,\n",
       "        3.29919539, 13.41261568,  6.16195695])"
      ]
     },
     "execution_count": 71,
     "metadata": {},
     "output_type": "execute_result"
    }
   ],
   "source": [
    "test_pred=l.predict(x_test)\n",
    "test_pred"
   ]
  },
  {
   "cell_type": "code",
   "execution_count": 72,
   "id": "09b57e2b",
   "metadata": {},
   "outputs": [],
   "source": [
    "error2=y_test-test_pred"
   ]
  },
  {
   "cell_type": "code",
   "execution_count": 73,
   "id": "bd383500",
   "metadata": {},
   "outputs": [
    {
     "data": {
      "text/plain": [
       "327    4.637222\n",
       "41    -0.148960\n",
       "184   -0.438653\n",
       "244    4.927150\n",
       "229    1.223652\n",
       "         ...   \n",
       "246    0.234973\n",
       "211   -0.698591\n",
       "95     1.802529\n",
       "220    0.829699\n",
       "136    0.640342\n",
       "Name: Kilometer_per_liter, Length: 118, dtype: float64"
      ]
     },
     "execution_count": 73,
     "metadata": {},
     "output_type": "execute_result"
    }
   ],
   "source": [
    "error2"
   ]
  },
  {
   "cell_type": "code",
   "execution_count": 74,
   "id": "04f1a8bc",
   "metadata": {},
   "outputs": [
    {
     "data": {
      "text/plain": [
       "<AxesSubplot:xlabel='Kilometer_per_liter', ylabel='Density'>"
      ]
     },
     "execution_count": 74,
     "metadata": {},
     "output_type": "execute_result"
    },
    {
     "data": {
      "image/png": "[encoded data removed]",
      "text/plain": [
       "<Figure size 432x288 with 1 Axes>"
      ]
     },
     "metadata": {
      "needs_background": "light"
     },
     "output_type": "display_data"
    }
   ],
   "source": [
    "sns.kdeplot(error2)"
   ]
  },
  {
   "cell_type": "code",
   "execution_count": 75,
   "id": "a116636f",
   "metadata": {},
   "outputs": [
    {
     "data": {
      "text/plain": [
       "3.403309655611138"
      ]
     },
     "execution_count": 75,
     "metadata": {},
     "output_type": "execute_result"
    }
   ],
   "source": [
    "mean_squared_error(test_pred,y_test)"
   ]
  },
  {
   "cell_type": "code",
   "execution_count": 76,
   "id": "55f6a766",
   "metadata": {},
   "outputs": [
    {
     "data": {
      "text/plain": [
       "1.8448061295461748"
      ]
     },
     "execution_count": 76,
     "metadata": {},
     "output_type": "execute_result"
    }
   ],
   "source": [
    "np.sqrt(mean_squared_error(test_pred,y_test))   #Test RMSE"
   ]
  },
  {
   "cell_type": "code",
   "execution_count": 77,
   "id": "4fc31cfd",
   "metadata": {},
   "outputs": [
    {
     "data": {
      "text/plain": [
       "0.7212284644028213"
      ]
     },
     "execution_count": 77,
     "metadata": {},
     "output_type": "execute_result"
    }
   ],
   "source": [
    "r2_score(y_test,test_pred)    #test r sq"
   ]
  },
  {
   "cell_type": "markdown",
   "id": "af2d8dfb",
   "metadata": {},
   "source": [
    "### now check hetroscadacity"
   ]
  },
  {
   "cell_type": "code",
   "execution_count": 78,
   "id": "39dc4a69",
   "metadata": {},
   "outputs": [],
   "source": [
    "import statsmodels.api as sm"
   ]
  },
  {
   "cell_type": "markdown",
   "id": "2f4c4d1d",
   "metadata": {},
   "source": [
    "### adding constant in x_train and assigning it in x_train1 to perform matrix multiplication \n",
    "\n",
    "note: it cant be added in y(dependent variable)"
   ]
  },
  {
   "cell_type": "code",
   "execution_count": 79,
   "id": "075451ce",
   "metadata": {},
   "outputs": [
    {
     "data": {
      "text/html": [
       "<div>\n",
       "<style scoped>\n",
       "    .dataframe tbody tr th:only-of-type {\n",
       "        vertical-align: middle;\n",
       "    }\n",
       "\n",
       "    .dataframe tbody tr th {\n",
       "        vertical-align: top;\n",
       "    }\n",
       "\n",
       "    .dataframe thead th {\n",
       "        text-align: right;\n",
       "    }\n",
       "</style>\n",
       "<table border=\"1\" class=\"dataframe\">\n",
       "  <thead>\n",
       "    <tr style=\"text-align: right;\">\n",
       "      <th></th>\n",
       "      <th>const</th>\n",
       "      <th>origin</th>\n",
       "      <th>cylinders</th>\n",
       "      <th>displacement</th>\n",
       "      <th>horsepower</th>\n",
       "      <th>weight</th>\n",
       "      <th>acceleration</th>\n",
       "    </tr>\n",
       "  </thead>\n",
       "  <tbody>\n",
       "    <tr>\n",
       "      <th>78</th>\n",
       "      <td>1.0</td>\n",
       "      <td>2</td>\n",
       "      <td>4</td>\n",
       "      <td>120.0</td>\n",
       "      <td>87.0</td>\n",
       "      <td>2979</td>\n",
       "      <td>19.5</td>\n",
       "    </tr>\n",
       "    <tr>\n",
       "      <th>91</th>\n",
       "      <td>1.0</td>\n",
       "      <td>1</td>\n",
       "      <td>8</td>\n",
       "      <td>400.0</td>\n",
       "      <td>150.0</td>\n",
       "      <td>4464</td>\n",
       "      <td>12.0</td>\n",
       "    </tr>\n",
       "    <tr>\n",
       "      <th>378</th>\n",
       "      <td>1.0</td>\n",
       "      <td>1</td>\n",
       "      <td>4</td>\n",
       "      <td>105.0</td>\n",
       "      <td>63.0</td>\n",
       "      <td>2125</td>\n",
       "      <td>14.7</td>\n",
       "    </tr>\n",
       "    <tr>\n",
       "      <th>285</th>\n",
       "      <td>1.0</td>\n",
       "      <td>1</td>\n",
       "      <td>8</td>\n",
       "      <td>305.0</td>\n",
       "      <td>130.0</td>\n",
       "      <td>3840</td>\n",
       "      <td>15.4</td>\n",
       "    </tr>\n",
       "    <tr>\n",
       "      <th>290</th>\n",
       "      <td>1.0</td>\n",
       "      <td>1</td>\n",
       "      <td>8</td>\n",
       "      <td>351.0</td>\n",
       "      <td>142.0</td>\n",
       "      <td>4054</td>\n",
       "      <td>14.3</td>\n",
       "    </tr>\n",
       "    <tr>\n",
       "      <th>...</th>\n",
       "      <td>...</td>\n",
       "      <td>...</td>\n",
       "      <td>...</td>\n",
       "      <td>...</td>\n",
       "      <td>...</td>\n",
       "      <td>...</td>\n",
       "      <td>...</td>\n",
       "    </tr>\n",
       "    <tr>\n",
       "      <th>360</th>\n",
       "      <td>1.0</td>\n",
       "      <td>2</td>\n",
       "      <td>6</td>\n",
       "      <td>145.0</td>\n",
       "      <td>76.0</td>\n",
       "      <td>3160</td>\n",
       "      <td>19.6</td>\n",
       "    </tr>\n",
       "    <tr>\n",
       "      <th>282</th>\n",
       "      <td>1.0</td>\n",
       "      <td>1</td>\n",
       "      <td>4</td>\n",
       "      <td>140.0</td>\n",
       "      <td>88.0</td>\n",
       "      <td>2890</td>\n",
       "      <td>17.3</td>\n",
       "    </tr>\n",
       "    <tr>\n",
       "      <th>144</th>\n",
       "      <td>1.0</td>\n",
       "      <td>3</td>\n",
       "      <td>4</td>\n",
       "      <td>76.0</td>\n",
       "      <td>52.0</td>\n",
       "      <td>1649</td>\n",
       "      <td>16.5</td>\n",
       "    </tr>\n",
       "    <tr>\n",
       "      <th>226</th>\n",
       "      <td>1.0</td>\n",
       "      <td>1</td>\n",
       "      <td>6</td>\n",
       "      <td>231.0</td>\n",
       "      <td>105.0</td>\n",
       "      <td>3425</td>\n",
       "      <td>16.9</td>\n",
       "    </tr>\n",
       "    <tr>\n",
       "      <th>350</th>\n",
       "      <td>1.0</td>\n",
       "      <td>1</td>\n",
       "      <td>4</td>\n",
       "      <td>105.0</td>\n",
       "      <td>63.0</td>\n",
       "      <td>2215</td>\n",
       "      <td>14.9</td>\n",
       "    </tr>\n",
       "  </tbody>\n",
       "</table>\n",
       "<p>274 rows × 7 columns</p>\n",
       "</div>"
      ],
      "text/plain": [
       "     const origin cylinders  displacement  horsepower  weight  acceleration\n",
       "78     1.0      2         4         120.0        87.0    2979          19.5\n",
       "91     1.0      1         8         400.0       150.0    4464          12.0\n",
       "378    1.0      1         4         105.0        63.0    2125          14.7\n",
       "285    1.0      1         8         305.0       130.0    3840          15.4\n",
       "290    1.0      1         8         351.0       142.0    4054          14.3\n",
       "..     ...    ...       ...           ...         ...     ...           ...\n",
       "360    1.0      2         6         145.0        76.0    3160          19.6\n",
       "282    1.0      1         4         140.0        88.0    2890          17.3\n",
       "144    1.0      3         4          76.0        52.0    1649          16.5\n",
       "226    1.0      1         6         231.0       105.0    3425          16.9\n",
       "350    1.0      1         4         105.0        63.0    2215          14.9\n",
       "\n",
       "[274 rows x 7 columns]"
      ]
     },
     "execution_count": 79,
     "metadata": {},
     "output_type": "execute_result"
    }
   ],
   "source": [
    "x_train1=sm.add_constant(x_train)\n",
    "x_train1"
   ]
  },
  {
   "cell_type": "code",
   "execution_count": 80,
   "id": "833161dd",
   "metadata": {},
   "outputs": [],
   "source": [
    "model=sm.OLS(y_train,x_train1).fit()\n"
   ]
  },
  {
   "cell_type": "code",
   "execution_count": 81,
   "id": "fb4a038d",
   "metadata": {},
   "outputs": [
    {
     "data": {
      "text/html": [
       "<table class=\"simpletable\">\n",
       "<caption>OLS Regression Results</caption>\n",
       "<tr>\n",
       "  <th>Dep. Variable:</th>    <td>Kilometer_per_liter</td> <th>  R-squared:         </th> <td>   0.717</td>\n",
       "</tr>\n",
       "<tr>\n",
       "  <th>Model:</th>                    <td>OLS</td>         <th>  Adj. R-squared:    </th> <td>   0.711</td>\n",
       "</tr>\n",
       "<tr>\n",
       "  <th>Method:</th>              <td>Least Squares</td>    <th>  F-statistic:       </th> <td>   113.0</td>\n",
       "</tr>\n",
       "<tr>\n",
       "  <th>Date:</th>              <td>Tue, 30 Nov 2021</td>   <th>  Prob (F-statistic):</th> <td>2.53e-70</td>\n",
       "</tr>\n",
       "<tr>\n",
       "  <th>Time:</th>                  <td>18:49:26</td>       <th>  Log-Likelihood:    </th> <td> -537.12</td>\n",
       "</tr>\n",
       "<tr>\n",
       "  <th>No. Observations:</th>       <td>   274</td>        <th>  AIC:               </th> <td>   1088.</td>\n",
       "</tr>\n",
       "<tr>\n",
       "  <th>Df Residuals:</th>           <td>   267</td>        <th>  BIC:               </th> <td>   1114.</td>\n",
       "</tr>\n",
       "<tr>\n",
       "  <th>Df Model:</th>               <td>     6</td>        <th>                     </th>     <td> </td>   \n",
       "</tr>\n",
       "<tr>\n",
       "  <th>Covariance Type:</th>       <td>nonrobust</td>      <th>                     </th>     <td> </td>   \n",
       "</tr>\n",
       "</table>\n",
       "<table class=\"simpletable\">\n",
       "<tr>\n",
       "        <td></td>          <th>coef</th>     <th>std err</th>      <th>t</th>      <th>P>|t|</th>  <th>[0.025</th>    <th>0.975]</th>  \n",
       "</tr>\n",
       "<tr>\n",
       "  <th>const</th>        <td>   19.0230</td> <td>    1.444</td> <td>   13.171</td> <td> 0.000</td> <td>   16.179</td> <td>   21.867</td>\n",
       "</tr>\n",
       "<tr>\n",
       "  <th>origin</th>       <td>    0.4450</td> <td>    0.173</td> <td>    2.568</td> <td> 0.011</td> <td>    0.104</td> <td>    0.786</td>\n",
       "</tr>\n",
       "<tr>\n",
       "  <th>cylinders</th>    <td>   -0.3778</td> <td>    0.201</td> <td>   -1.878</td> <td> 0.061</td> <td>   -0.774</td> <td>    0.018</td>\n",
       "</tr>\n",
       "<tr>\n",
       "  <th>displacement</th> <td>    0.0055</td> <td>    0.005</td> <td>    1.119</td> <td> 0.264</td> <td>   -0.004</td> <td>    0.015</td>\n",
       "</tr>\n",
       "<tr>\n",
       "  <th>horsepower</th>   <td>   -0.0256</td> <td>    0.009</td> <td>   -2.892</td> <td> 0.004</td> <td>   -0.043</td> <td>   -0.008</td>\n",
       "</tr>\n",
       "<tr>\n",
       "  <th>weight</th>       <td>   -0.0020</td> <td>    0.000</td> <td>   -4.948</td> <td> 0.000</td> <td>   -0.003</td> <td>   -0.001</td>\n",
       "</tr>\n",
       "<tr>\n",
       "  <th>acceleration</th> <td>   -0.0176</td> <td>    0.063</td> <td>   -0.279</td> <td> 0.780</td> <td>   -0.142</td> <td>    0.107</td>\n",
       "</tr>\n",
       "</table>\n",
       "<table class=\"simpletable\">\n",
       "<tr>\n",
       "  <th>Omnibus:</th>       <td>28.740</td> <th>  Durbin-Watson:     </th> <td>   2.039</td>\n",
       "</tr>\n",
       "<tr>\n",
       "  <th>Prob(Omnibus):</th> <td> 0.000</td> <th>  Jarque-Bera (JB):  </th> <td>  43.463</td>\n",
       "</tr>\n",
       "<tr>\n",
       "  <th>Skew:</th>          <td> 0.660</td> <th>  Prob(JB):          </th> <td>3.65e-10</td>\n",
       "</tr>\n",
       "<tr>\n",
       "  <th>Kurtosis:</th>      <td> 4.438</td> <th>  Cond. No.          </th> <td>4.24e+04</td>\n",
       "</tr>\n",
       "</table><br/><br/>Notes:<br/>[1] Standard Errors assume that the covariance matrix of the errors is correctly specified.<br/>[2] The condition number is large, 4.24e+04. This might indicate that there are<br/>strong multicollinearity or other numerical problems."
      ],
      "text/plain": [
       "<class 'statsmodels.iolib.summary.Summary'>\n",
       "\"\"\"\n",
       "                             OLS Regression Results                            \n",
       "===============================================================================\n",
       "Dep. Variable:     Kilometer_per_liter   R-squared:                       0.717\n",
       "Model:                             OLS   Adj. R-squared:                  0.711\n",
       "Method:                  Least Squares   F-statistic:                     113.0\n",
       "Date:                 Tue, 30 Nov 2021   Prob (F-statistic):           2.53e-70\n",
       "Time:                         18:49:26   Log-Likelihood:                -537.12\n",
       "No. Observations:                  274   AIC:                             1088.\n",
       "Df Residuals:                      267   BIC:                             1114.\n",
       "Df Model:                            6                                         \n",
       "Covariance Type:             nonrobust                                         \n",
       "================================================================================\n",
       "                   coef    std err          t      P>|t|      [0.025      0.975]\n",
       "--------------------------------------------------------------------------------\n",
       "const           19.0230      1.444     13.171      0.000      16.179      21.867\n",
       "origin           0.4450      0.173      2.568      0.011       0.104       0.786\n",
       "cylinders       -0.3778      0.201     -1.878      0.061      -0.774       0.018\n",
       "displacement     0.0055      0.005      1.119      0.264      -0.004       0.015\n",
       "horsepower      -0.0256      0.009     -2.892      0.004      -0.043      -0.008\n",
       "weight          -0.0020      0.000     -4.948      0.000      -0.003      -0.001\n",
       "acceleration    -0.0176      0.063     -0.279      0.780      -0.142       0.107\n",
       "==============================================================================\n",
       "Omnibus:                       28.740   Durbin-Watson:                   2.039\n",
       "Prob(Omnibus):                  0.000   Jarque-Bera (JB):               43.463\n",
       "Skew:                           0.660   Prob(JB):                     3.65e-10\n",
       "Kurtosis:                       4.438   Cond. No.                     4.24e+04\n",
       "==============================================================================\n",
       "\n",
       "Notes:\n",
       "[1] Standard Errors assume that the covariance matrix of the errors is correctly specified.\n",
       "[2] The condition number is large, 4.24e+04. This might indicate that there are\n",
       "strong multicollinearity or other numerical problems.\n",
       "\"\"\""
      ]
     },
     "execution_count": 81,
     "metadata": {},
     "output_type": "execute_result"
    }
   ],
   "source": [
    "model.summary()"
   ]
  }
 ],
 "metadata": {
  "kernelspec": {
   "display_name": "Python 3",
   "language": "python",
   "name": "python3"
  },
  "language_info": {
   "codemirror_mode": {
    "name": "ipython",
    "version": 3
   },
   "file_extension": ".py",
   "mimetype": "text/x-python",
   "name": "python",
   "nbconvert_exporter": "python",
   "pygments_lexer": "ipython3",
   "version": "3.8.8"
  }
 },
 "nbformat": 4,
 "nbformat_minor": 5
}
